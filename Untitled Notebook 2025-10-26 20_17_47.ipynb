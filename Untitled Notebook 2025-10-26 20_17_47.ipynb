{
 "cells": [
  {
   "cell_type": "markdown",
   "metadata": {
    "application/vnd.databricks.v1+cell": {
     "cellMetadata": {},
     "inputWidgets": {},
     "nuid": "b6906d64-9298-40f7-9aa4-c92abc1e5828",
     "showTitle": false,
     "tableResultSettingsMap": {},
     "title": ""
    }
   },
   "source": [
    "# Sentimental Analysis "
   ]
  },
  {
   "cell_type": "markdown",
   "metadata": {
    "application/vnd.databricks.v1+cell": {
     "cellMetadata": {},
     "inputWidgets": {},
     "nuid": "8d9466e9-352f-4584-b01b-a8df868cf50a",
     "showTitle": false,
     "tableResultSettingsMap": {},
     "title": ""
    }
   },
   "source": [
    "## Problem Statement\n",
    "Business Context\n",
    "The prices of the stocks of companies listed under a global exchange are influenced by a variety of factors, with the company's financial performance, innovations and collaborations, and market sentiment being factors that play a significant role. News and media reports can rapidly affect investor perceptions and, consequently, stock prices in the highly competitive financial industry. With the sheer volume of news and opinions from a wide variety of sources, investors and financial analysts often struggle to stay updated and accurately interpret its impact on the market. As a result, investment firms need sophisticated tools to analyze market sentiment and integrate this information into their investment strategies.\n",
    "\n",
    "## Problem Definition\n",
    "With an ever-rising number of news articles and opinions, an investment startup aims to leverage artificial intelligence to address the challenge of interpreting stock-related news and its impact on stock prices. They have collected historical daily news for a specific company listed under NASDAQ, along with data on its daily stock price and trade volumes.\n",
    "\n",
    "As a member of the Data Science and AI team in the startup, you have been tasked with analyzing the data, developing an AI-driven sentiment analysis system that will automatically process and analyze news articles to gauge market sentiment, and summarizing the news at a weekly level to enhance the accuracy of their stock price predictions and optimize investment strategies. This will empower their financial analysts with actionable insights, leading to more informed investment decisions and improved client outcomes.\n",
    "\n",
    "## Data Dictionary\n",
    "- Date : The date the news was released\n",
    "- News : The content of news articles that could potentially affect the company's stock price\n",
    "- Open : The stock price `(in $)` at the beginning of the day\n",
    "- High : The highest stock price `(in $)` reached during the day\n",
    "- Low : The lowest stock price `(in $)` reached during the day\n",
    "- Close : The adjusted stock price `(in $)` at the end of the day\n",
    "- Volume : The number of shares traded during the day\n",
    "- Label : The sentiment polarity of the news content\n",
    "  - 1: positive\n",
    "  - 0: neutral\n",
    "  - -1: negative"
   ]
  },
  {
   "cell_type": "markdown",
   "metadata": {
    "application/vnd.databricks.v1+cell": {
     "cellMetadata": {},
     "inputWidgets": {},
     "nuid": "e9a16cf7-8c0b-4d4a-8707-cd6e62233661",
     "showTitle": false,
     "tableResultSettingsMap": {},
     "title": ""
    }
   },
   "source": [
    "## Installing and Importing Necessary Libraries"
   ]
  },
  {
   "cell_type": "code",
   "execution_count": 0,
   "metadata": {
    "application/vnd.databricks.v1+cell": {
     "cellMetadata": {},
     "inputWidgets": {},
     "nuid": "cddf84d5-a540-45b3-a9b6-7eccfae58080",
     "showTitle": false,
     "tableResultSettingsMap": {},
     "title": ""
    }
   },
   "outputs": [],
   "source": [
    "%pip install --upgrade --force-reinstall sentence-transformers==2.7.0 transformers==4.40.2 bitsandbytes==0.46.0 accelerate==1.7.0 sentencepiece==0.2.0 pandas==2.2.2 numpy==2.0.2 matplotlib==3.10.0 seaborn==0.13.2 torch==2.6.0 scikit-learn==1.6.1"
   ]
  },
  {
   "cell_type": "code",
   "execution_count": 0,
   "metadata": {
    "application/vnd.databricks.v1+cell": {
     "cellMetadata": {},
     "inputWidgets": {},
     "nuid": "db18d652-048d-47a2-888e-9e8ecece5b7a",
     "showTitle": false,
     "tableResultSettingsMap": {},
     "title": ""
    }
   },
   "outputs": [],
   "source": [
    "%pip install gensim"
   ]
  },
  {
   "cell_type": "code",
   "execution_count": 0,
   "metadata": {
    "application/vnd.databricks.v1+cell": {
     "cellMetadata": {},
     "inputWidgets": {},
     "nuid": "95d163dc-589b-4ecd-af85-bdea0bedaa60",
     "showTitle": false,
     "tableResultSettingsMap": {},
     "title": ""
    }
   },
   "outputs": [],
   "source": [
    "# To manipulate and analyze data\n",
    "import pandas as pd\n",
    "import numpy as np\n",
    "\n",
    "# To visualize data\n",
    "import matplotlib.pyplot as plt\n",
    "import seaborn as sns\n",
    "\n",
    "# To used time-related functions\n",
    "import time\n",
    "\n",
    "# To parse JSON data\n",
    "import json\n",
    "\n",
    "# To build, tune, and evaluate ML models\n",
    "# from sklearn.ensemble import DecisionTreeClassifier # Incorrecct import\n",
    "from sklearn.ensemble import GradientBoostingClassifier\n",
    "from sklearn.ensemble import RandomForestClassifier\n",
    "from sklearn.tree import DecisionTreeClassifier # Update import replacing commented sklearn.ensemble import\n",
    "\n",
    "from sklearn.model_selection import GridSearchCV\n",
    "from sklearn.metrics import confusion_matrix, accuracy_score, f1_score, precision_score, recall_score\n",
    "\n",
    "# To load/create word embeddings\n",
    "from gensim.models import Word2Vec\n",
    "from gensim.models import KeyedVectors\n",
    "from gensim.scripts.glove2word2vec import glove2word2vec\n",
    "\n",
    "# To work with transformer models\n",
    "import torch\n",
    "from sentence_transformers import SentenceTransformer\n",
    "\n",
    "# To implement progress bar related functionalities\n",
    "from tqdm import tqdm\n",
    "tqdm.pandas()\n",
    "\n",
    "# To ignore unnecessary warnings\n",
    "import warnings\n",
    "warnings.filterwarnings('ignore')"
   ]
  },
  {
   "cell_type": "code",
   "execution_count": 0,
   "metadata": {
    "application/vnd.databricks.v1+cell": {
     "cellMetadata": {},
     "inputWidgets": {},
     "nuid": "7bf9fa30-90aa-4f17-b993-9e23a13e0b28",
     "showTitle": false,
     "tableResultSettingsMap": {},
     "title": ""
    }
   },
   "outputs": [],
   "source": [
    "# Check library versions\n",
    "print(\"pandas:   \", pd.__version__)\n",
    "print(\"numpy:    \", np.__version__)\n",
    "print(\"seaborn:  \", sns.__version__)\n",
    "print(\"torch:    \", torch.__version__)"
   ]
  },
  {
   "cell_type": "markdown",
   "metadata": {
    "application/vnd.databricks.v1+cell": {
     "cellMetadata": {},
     "inputWidgets": {},
     "nuid": "f050b202-bb71-41f1-b90d-c42b6727abcc",
     "showTitle": false,
     "tableResultSettingsMap": {},
     "title": ""
    }
   },
   "source": [
    "## Loading the dataset"
   ]
  },
  {
   "cell_type": "code",
   "execution_count": 0,
   "metadata": {
    "application/vnd.databricks.v1+cell": {
     "cellMetadata": {},
     "inputWidgets": {},
     "nuid": "781faf7c-ca7f-4d54-ad36-47c44cb2ee3d",
     "showTitle": false,
     "tableResultSettingsMap": {},
     "title": ""
    }
   },
   "outputs": [],
   "source": [
    "stock_news = pd.read_csv('https://raw.githubusercontent.com/ShauryaRawat10/Data-Science/main/Generative%20AI/Storage/stock_news.csv', engine='python')"
   ]
  },
  {
   "cell_type": "code",
   "execution_count": 0,
   "metadata": {
    "application/vnd.databricks.v1+cell": {
     "cellMetadata": {},
     "inputWidgets": {},
     "nuid": "012d648d-5767-4755-b2c0-69a6b0f1eebd",
     "showTitle": false,
     "tableResultSettingsMap": {},
     "title": ""
    }
   },
   "outputs": [],
   "source": [
    "stock = stock_news.copy()"
   ]
  },
  {
   "cell_type": "markdown",
   "metadata": {
    "application/vnd.databricks.v1+cell": {
     "cellMetadata": {},
     "inputWidgets": {},
     "nuid": "360eae82-25fc-4df3-b37e-ab3c39d00d66",
     "showTitle": false,
     "tableResultSettingsMap": {},
     "title": ""
    }
   },
   "source": [
    "## Data Overview"
   ]
  },
  {
   "cell_type": "code",
   "execution_count": 0,
   "metadata": {
    "application/vnd.databricks.v1+cell": {
     "cellMetadata": {},
     "inputWidgets": {},
     "nuid": "0e0e64d6-f334-42fc-bf52-1493766e03c4",
     "showTitle": false,
     "tableResultSettingsMap": {},
     "title": ""
    }
   },
   "outputs": [],
   "source": [
    "stock.head()"
   ]
  },
  {
   "cell_type": "code",
   "execution_count": 0,
   "metadata": {
    "application/vnd.databricks.v1+cell": {
     "cellMetadata": {},
     "inputWidgets": {},
     "nuid": "0f407ad8-f835-483f-a111-13f449514edc",
     "showTitle": false,
     "tableResultSettingsMap": {},
     "title": ""
    }
   },
   "outputs": [],
   "source": [
    "stock.tail()"
   ]
  },
  {
   "cell_type": "code",
   "execution_count": 0,
   "metadata": {
    "application/vnd.databricks.v1+cell": {
     "cellMetadata": {},
     "inputWidgets": {},
     "nuid": "a09ce5fc-5e92-4a39-b277-412d8143054c",
     "showTitle": false,
     "tableResultSettingsMap": {},
     "title": ""
    }
   },
   "outputs": [],
   "source": [
    "stock.shape"
   ]
  },
  {
   "cell_type": "markdown",
   "metadata": {
    "application/vnd.databricks.v1+cell": {
     "cellMetadata": {},
     "inputWidgets": {},
     "nuid": "96767e6c-9e4b-4415-9a4f-dabf39f84172",
     "showTitle": false,
     "tableResultSettingsMap": {},
     "title": ""
    }
   },
   "source": [
    "- Total 349 rows and 8 columns in the Stock market dataset"
   ]
  },
  {
   "cell_type": "code",
   "execution_count": 0,
   "metadata": {
    "application/vnd.databricks.v1+cell": {
     "cellMetadata": {},
     "inputWidgets": {},
     "nuid": "d0629184-5fdd-4d25-ba3c-9bb88b25d846",
     "showTitle": false,
     "tableResultSettingsMap": {},
     "title": ""
    }
   },
   "outputs": [],
   "source": [
    "stock.columns"
   ]
  },
  {
   "cell_type": "code",
   "execution_count": 0,
   "metadata": {
    "application/vnd.databricks.v1+cell": {
     "cellMetadata": {},
     "inputWidgets": {},
     "nuid": "1b4d5b2a-2bff-44a4-88b4-7ca406e95f84",
     "showTitle": false,
     "tableResultSettingsMap": {},
     "title": ""
    }
   },
   "outputs": [],
   "source": [
    "stock.duplicated().sum()"
   ]
  },
  {
   "cell_type": "markdown",
   "metadata": {
    "application/vnd.databricks.v1+cell": {
     "cellMetadata": {},
     "inputWidgets": {},
     "nuid": "0d96d0e2-ea13-4f55-bb5e-f23110aa71ef",
     "showTitle": false,
     "tableResultSettingsMap": {},
     "title": ""
    }
   },
   "source": [
    "- No duplicates"
   ]
  },
  {
   "cell_type": "code",
   "execution_count": 0,
   "metadata": {
    "application/vnd.databricks.v1+cell": {
     "cellMetadata": {},
     "inputWidgets": {},
     "nuid": "9c27810d-d335-4a2f-bf02-7e6d1f8d7f9d",
     "showTitle": false,
     "tableResultSettingsMap": {},
     "title": ""
    }
   },
   "outputs": [],
   "source": [
    "stock.isnull().sum()"
   ]
  },
  {
   "cell_type": "markdown",
   "metadata": {
    "application/vnd.databricks.v1+cell": {
     "cellMetadata": {},
     "inputWidgets": {},
     "nuid": "4ad3ab7d-7af7-4a12-8882-e73be484de4e",
     "showTitle": false,
     "tableResultSettingsMap": {},
     "title": ""
    }
   },
   "source": [
    "- No null values"
   ]
  },
  {
   "cell_type": "code",
   "execution_count": 0,
   "metadata": {
    "application/vnd.databricks.v1+cell": {
     "cellMetadata": {},
     "inputWidgets": {},
     "nuid": "e3699c92-d809-469b-af1a-1eea2a8e2536",
     "showTitle": false,
     "tableResultSettingsMap": {},
     "title": ""
    }
   },
   "outputs": [],
   "source": [
    "stock.nunique()"
   ]
  },
  {
   "cell_type": "markdown",
   "metadata": {
    "application/vnd.databricks.v1+cell": {
     "cellMetadata": {},
     "inputWidgets": {},
     "nuid": "1a360487-115e-4736-b2b3-ad145ed12181",
     "showTitle": false,
     "tableResultSettingsMap": {},
     "title": ""
    }
   },
   "source": [
    "- News columns is always unique \n",
    "- Label (Sentiment) has 3 categories"
   ]
  },
  {
   "cell_type": "code",
   "execution_count": 0,
   "metadata": {
    "application/vnd.databricks.v1+cell": {
     "cellMetadata": {},
     "inputWidgets": {},
     "nuid": "e27cfee4-718f-4576-bb29-e7ce516a6755",
     "showTitle": false,
     "tableResultSettingsMap": {},
     "title": ""
    }
   },
   "outputs": [],
   "source": [
    "stock.info()"
   ]
  },
  {
   "cell_type": "markdown",
   "metadata": {
    "application/vnd.databricks.v1+cell": {
     "cellMetadata": {},
     "inputWidgets": {},
     "nuid": "6c66fa30-1931-42b5-bc3e-2da91437a9db",
     "showTitle": false,
     "tableResultSettingsMap": {},
     "title": ""
    }
   },
   "source": [
    "- 6 Columns are of numerical data type. 2 are categorical"
   ]
  },
  {
   "cell_type": "markdown",
   "metadata": {
    "application/vnd.databricks.v1+cell": {
     "cellMetadata": {},
     "inputWidgets": {},
     "nuid": "77053b6e-8f06-4765-9d32-0fd5b96d42a6",
     "showTitle": false,
     "tableResultSettingsMap": {},
     "title": ""
    }
   },
   "source": [
    "## Convert Date to DateTime format"
   ]
  },
  {
   "cell_type": "code",
   "execution_count": 0,
   "metadata": {
    "application/vnd.databricks.v1+cell": {
     "cellMetadata": {},
     "inputWidgets": {},
     "nuid": "a0343745-b3f7-4ad0-8e07-e188ffa47cb0",
     "showTitle": false,
     "tableResultSettingsMap": {},
     "title": ""
    }
   },
   "outputs": [],
   "source": [
    "stock['Date'] = pd.to_datetime(stock['Date'])"
   ]
  },
  {
   "cell_type": "code",
   "execution_count": 0,
   "metadata": {
    "application/vnd.databricks.v1+cell": {
     "cellMetadata": {},
     "inputWidgets": {},
     "nuid": "f61117d3-a5c8-45dc-bcf7-09bb63c379a0",
     "showTitle": false,
     "tableResultSettingsMap": {},
     "title": ""
    }
   },
   "outputs": [],
   "source": [
    "stock.dtypes"
   ]
  },
  {
   "cell_type": "code",
   "execution_count": 0,
   "metadata": {
    "application/vnd.databricks.v1+cell": {
     "cellMetadata": {},
     "inputWidgets": {},
     "nuid": "88a3c262-88d4-4a70-a2b5-c59248e586b0",
     "showTitle": false,
     "tableResultSettingsMap": {},
     "title": ""
    }
   },
   "outputs": [],
   "source": [
    "pd.set_option('display.float_format', '{:.2f}'.format)\n",
    "stock.describe()"
   ]
  },
  {
   "cell_type": "markdown",
   "metadata": {
    "application/vnd.databricks.v1+cell": {
     "cellMetadata": {},
     "inputWidgets": {},
     "nuid": "2b791bb4-7862-4b5a-8d31-0516c9ef50a0",
     "showTitle": false,
     "tableResultSettingsMap": {},
     "title": ""
    }
   },
   "source": [
    "- Observations:\n",
    "  - For 349 days in dataset, the Stock market has:\n",
    "    - Stock Volume of 244439200\n",
    "    - Highest Stock price: 67\n",
    "    - Lowest Stock price: 36.25"
   ]
  },
  {
   "cell_type": "code",
   "execution_count": 0,
   "metadata": {
    "application/vnd.databricks.v1+cell": {
     "cellMetadata": {},
     "inputWidgets": {},
     "nuid": "abd4a5e1-ffda-44fd-900c-6c4fb2ccb679",
     "showTitle": false,
     "tableResultSettingsMap": {},
     "title": ""
    }
   },
   "outputs": [],
   "source": [
    "ax = sns.countplot(data=stock, x='Label', stat=\"percent\")\n",
    "\n",
    "# Add percentage values at the top of each bar\n",
    "total = len(stock)    \n",
    "                                       # Total number of items in the dataset\n",
    "for p in ax.patches:\n",
    "    height = p.get_height()\n",
    "    ax.annotate(f'{height:.2f}%',                            # Display percentage with 2 decimals\n",
    "                (p.get_x() + p.get_width() / 2., height),    # Position at the top of the bar\n",
    "                ha='center', va='center',                    # Alignment\n",
    "                fontsize=8, color='black', fontweight='bold', # Styling\n",
    "                xytext=(0, 5), textcoords='offset points')   # Adjust text position"
   ]
  },
  {
   "cell_type": "code",
   "execution_count": 0,
   "metadata": {
    "application/vnd.databricks.v1+cell": {
     "cellMetadata": {},
     "inputWidgets": {},
     "nuid": "d6cc3c83-b5f1-4998-a399-1a44c17356af",
     "showTitle": false,
     "tableResultSettingsMap": {},
     "title": ""
    }
   },
   "outputs": [],
   "source": [
    "For the reported news:\n",
    "- 48.7% with Neural Sentiment\n",
    "- 28.4% with Negative Sentiment\n",
    "- 22.9% with positive sentiment"
   ]
  },
  {
   "cell_type": "code",
   "execution_count": 0,
   "metadata": {
    "application/vnd.databricks.v1+cell": {
     "cellMetadata": {},
     "inputWidgets": {},
     "nuid": "c1afab8e-630c-4e6d-93d9-76072d45d223",
     "showTitle": false,
     "tableResultSettingsMap": {},
     "title": ""
    }
   },
   "outputs": [],
   "source": [
    "sns.boxplot(data=stock, x='Open')"
   ]
  },
  {
   "cell_type": "markdown",
   "metadata": {
    "application/vnd.databricks.v1+cell": {
     "cellMetadata": {},
     "inputWidgets": {},
     "nuid": "0f7fb895-877f-4964-af45-a00608222987",
     "showTitle": false,
     "tableResultSettingsMap": {},
     "title": ""
    }
   },
   "source": [
    "- Most of the stocks with 'Opening Price' are between 35 - 63 unit dollars, with few outliers of 65+"
   ]
  },
  {
   "cell_type": "code",
   "execution_count": 0,
   "metadata": {
    "application/vnd.databricks.v1+cell": {
     "cellMetadata": {},
     "inputWidgets": {},
     "nuid": "dc96d845-645f-42e4-8e15-7e15c99e2073",
     "showTitle": false,
     "tableResultSettingsMap": {},
     "title": ""
    }
   },
   "outputs": [],
   "source": [
    "sns.boxplot(data=stock, x='Close')"
   ]
  },
  {
   "cell_type": "markdown",
   "metadata": {
    "application/vnd.databricks.v1+cell": {
     "cellMetadata": {},
     "inputWidgets": {},
     "nuid": "1b0711e2-5987-4d85-92c0-ee11451547bd",
     "showTitle": false,
     "tableResultSettingsMap": {},
     "title": ""
    }
   },
   "source": [
    "- Closing price for stocks are between 37 to 55 unit dollar. Outliers of 63-65 exists"
   ]
  },
  {
   "cell_type": "code",
   "execution_count": 0,
   "metadata": {
    "application/vnd.databricks.v1+cell": {
     "cellMetadata": {},
     "inputWidgets": {},
     "nuid": "325f9759-1342-40a8-9664-a3972a57c172",
     "showTitle": false,
     "tableResultSettingsMap": {},
     "title": ""
    }
   },
   "outputs": [],
   "source": [
    "# Density Plot of Price (Open,High,Low,Close)\n",
    "for i in [\"Open\",\"High\",\"Low\",\"Close\"]:\n",
    "    sns.kdeplot(stock[i], label=i, shade=True)\n",
    "plt.xlabel(\"Price\")\n",
    "plt.ylabel(\"Density\")\n",
    "plt.title(\"Density Plot of Stock Prices\")\n",
    "plt.legend()\n",
    "plt.show()"
   ]
  },
  {
   "cell_type": "markdown",
   "metadata": {
    "application/vnd.databricks.v1+cell": {
     "cellMetadata": {},
     "inputWidgets": {},
     "nuid": "606d5fd7-a54a-426f-bd56-4a433291a951",
     "showTitle": false,
     "tableResultSettingsMap": {},
     "title": ""
    }
   },
   "source": [
    "- Stock Price mostly landed in the 40-50 range"
   ]
  },
  {
   "cell_type": "code",
   "execution_count": 0,
   "metadata": {
    "application/vnd.databricks.v1+cell": {
     "cellMetadata": {},
     "inputWidgets": {},
     "nuid": "fb43359e-f8ab-40ec-b3da-221472ed6ed1",
     "showTitle": false,
     "tableResultSettingsMap": {},
     "title": ""
    }
   },
   "outputs": [],
   "source": [
    "plt.figure(figsize=(10, 6))\n",
    "sns.lineplot(x='Date', y='High', data=stock, color='blue', label='High')\n",
    "sns.lineplot(x='Date', y='Low', data=stock, color='red', label='Low')\n",
    "plt.title('Stocks High and Low price')\n",
    "plt.xticks(\n",
    "    rotation=45,                     # rotate for readability\n",
    "    ha='right'                       # right-align the labels\n",
    ")\n",
    "plt.show()"
   ]
  },
  {
   "cell_type": "code",
   "execution_count": 0,
   "metadata": {
    "application/vnd.databricks.v1+cell": {
     "cellMetadata": {},
     "inputWidgets": {},
     "nuid": "2e071609-2743-4d92-adfd-7e4feaea4a41",
     "showTitle": false,
     "tableResultSettingsMap": {},
     "title": ""
    }
   },
   "outputs": [],
   "source": [
    "sns.heatmap( stock.corr(numeric_only=True), annot=True, cmap='coolwarm', fmt=\".2f\" )"
   ]
  },
  {
   "cell_type": "markdown",
   "metadata": {
    "application/vnd.databricks.v1+cell": {
     "cellMetadata": {},
     "inputWidgets": {},
     "nuid": "816c7448-964d-4b43-8448-58016bcd1831",
     "showTitle": false,
     "tableResultSettingsMap": {},
     "title": ""
    }
   },
   "source": [
    "- Open, Close, High, Low are highly correlated\n",
    "- Volume is negatively correlated with High, Open, Close, Low and Label"
   ]
  },
  {
   "cell_type": "code",
   "execution_count": 0,
   "metadata": {
    "application/vnd.databricks.v1+cell": {
     "cellMetadata": {},
     "inputWidgets": {},
     "nuid": "1a5bff55-9980-49f0-b7bf-2b8369c00c6f",
     "showTitle": false,
     "tableResultSettingsMap": {},
     "title": ""
    }
   },
   "outputs": [],
   "source": [
    "stock['news_len'] = stock['News'].apply(lambda x: len(x.split(' '))) # Calculating the total number of words present in the news content column.\n",
    "stock['news_len'].describe()                                         # Print the statistical summary for the news content length after splitting into words."
   ]
  },
  {
   "cell_type": "markdown",
   "metadata": {
    "application/vnd.databricks.v1+cell": {
     "cellMetadata": {},
     "inputWidgets": {},
     "nuid": "103ad171-5134-4916-a015-dfad2c7a875b",
     "showTitle": false,
     "tableResultSettingsMap": {},
     "title": ""
    }
   },
   "source": [
    "- Average words in news are around 50\n",
    "- Maximum words are 61 and minimum as 19"
   ]
  },
  {
   "cell_type": "code",
   "execution_count": 0,
   "metadata": {
    "application/vnd.databricks.v1+cell": {
     "cellMetadata": {},
     "inputWidgets": {},
     "nuid": "71338bcd-9a10-434b-afc3-b92fa7d611ef",
     "showTitle": false,
     "tableResultSettingsMap": {},
     "title": ""
    }
   },
   "outputs": [],
   "source": [
    "plt.figure(figsize=(8, 4))\n",
    "\n",
    "for i, variable in enumerate(['Open', 'High', 'Low', 'Close']):\n",
    "    plt.subplot(2, 2, i + 1)\n",
    "    sns.boxplot(data=stock, x=\"Label\", y=variable) # Label = Sentiment (1) - Positive, (0) - Neutral, (-1) - Negative\n",
    "    plt.tight_layout(pad=2)\n",
    "\n",
    "plt.show()"
   ]
  },
  {
   "cell_type": "code",
   "execution_count": 0,
   "metadata": {
    "application/vnd.databricks.v1+cell": {
     "cellMetadata": {},
     "inputWidgets": {},
     "nuid": "02e7b0e6-de62-4d9f-8bf2-b07865bcf636",
     "showTitle": false,
     "tableResultSettingsMap": {},
     "title": ""
    }
   },
   "outputs": [],
   "source": [
    "sns.boxplot(\n",
    "    data=stock, x=\"Label\", y=\"Volume\"  # # Label = Sentiment (1) - Positive, (0) - Neutral, (-1) - Negative\n",
    ");"
   ]
  },
  {
   "cell_type": "code",
   "execution_count": 0,
   "metadata": {
    "application/vnd.databricks.v1+cell": {
     "cellMetadata": {},
     "inputWidgets": {},
     "nuid": "ebffd11a-e3b7-4693-be53-a34b0b1c93a3",
     "showTitle": false,
     "tableResultSettingsMap": {},
     "title": ""
    }
   },
   "outputs": [],
   "source": [
    "stock_daily = stock.groupby('Date').agg(\n",
    "    {\n",
    "        'Open': 'mean',\n",
    "        'High': 'mean',\n",
    "        'Low': 'mean',\n",
    "        'Close': 'mean',\n",
    "        'Volume': 'mean',\n",
    "    }\n",
    ").reset_index()                             # Group the 'stocks' DataFrame by the 'Date' column\n",
    "\n",
    "stock_daily.set_index('Date', inplace=True) # Index\n",
    "stock_daily.sample(n=10, random_state=42)   # Random selection of rows. But the same ones used whenever randon is chosen."
   ]
  },
  {
   "cell_type": "code",
   "execution_count": 0,
   "metadata": {
    "application/vnd.databricks.v1+cell": {
     "cellMetadata": {},
     "inputWidgets": {},
     "nuid": "55c38e68-e340-44b5-92e1-70d5a7db32fe",
     "showTitle": false,
     "tableResultSettingsMap": {},
     "title": ""
    }
   },
   "outputs": [],
   "source": [
    "plt.figure(figsize=(12,3))\n",
    "sns.lineplot(stock_daily.drop(\"Volume\", axis=1));"
   ]
  },
  {
   "cell_type": "markdown",
   "metadata": {
    "application/vnd.databricks.v1+cell": {
     "cellMetadata": {},
     "inputWidgets": {},
     "nuid": "21e7b5d1-aa30-420c-9be2-eabe0decd1a6",
     "showTitle": false,
     "tableResultSettingsMap": {},
     "title": ""
    }
   },
   "source": [
    "- There is a cyclic pattern (seasionality) with increase/descrease in prices of stock\n",
    "- In the first half of month the stock surges, in next half it drops and remains mostly low"
   ]
  },
  {
   "cell_type": "code",
   "execution_count": 0,
   "metadata": {
    "application/vnd.databricks.v1+cell": {
     "cellMetadata": {},
     "inputWidgets": {},
     "nuid": "1c53eef1-e627-4a9f-a1a0-9fa10209bb68",
     "showTitle": false,
     "tableResultSettingsMap": {},
     "title": ""
    }
   },
   "outputs": [],
   "source": [
    "fig, ax1 = plt.subplots(figsize=(15,5))      # Create a figure and axis\n",
    "sns.lineplot(data=stock_daily.reset_index(), x='Date', y='Close', ax=ax1, color='blue', marker='o', label='Close Price') # Lineplot on primary y-axis\n",
    "ax2 = ax1.twinx()                            # Create a secondary y-axis\n",
    "sns.lineplot(data=stock_daily.reset_index(), x='Date', y='Volume', ax=ax2, color='gray', marker='o', label='Volume') # Lineplot on secondary y-axis\n",
    "ax1.legend(bbox_to_anchor=(1,1));            # Legend set to the Volume data"
   ]
  },
  {
   "cell_type": "code",
   "execution_count": 0,
   "metadata": {
    "application/vnd.databricks.v1+cell": {
     "cellMetadata": {},
     "inputWidgets": {},
     "nuid": "1c52bc31-f7bd-4b4f-9e36-7b0363b1b38f",
     "showTitle": false,
     "tableResultSettingsMap": {},
     "title": ""
    }
   },
   "outputs": [],
   "source": [
    "stock[\"Date\"].fillna(\"Unknown\", inplace=True) # Replace NaN with a Default Value (e.g., “Unknown” or a placeholder)\n",
    "stock[\"Date\"].describe()"
   ]
  },
  {
   "cell_type": "markdown",
   "metadata": {
    "application/vnd.databricks.v1+cell": {
     "cellMetadata": {},
     "inputWidgets": {},
     "nuid": "14871859-3c58-47d4-aed6-7d8fce73b435",
     "showTitle": false,
     "tableResultSettingsMap": {},
     "title": ""
    }
   },
   "source": [
    "## Test Train Split"
   ]
  },
  {
   "cell_type": "code",
   "execution_count": 0,
   "metadata": {
    "application/vnd.databricks.v1+cell": {
     "cellMetadata": {},
     "inputWidgets": {},
     "nuid": "ad204980-0b1a-41d3-a7a2-2cafad4cbf59",
     "showTitle": false,
     "tableResultSettingsMap": {},
     "title": ""
    }
   },
   "outputs": [],
   "source": [
    "X_train = stock[(stock['Date'] < '2019-04-01')].reset_index()    # Select all rows where the 'Date' is before '2019-04-01'\n",
    "X_val = stock[(stock['Date'] >= '2019-04-01') & (stock['Date'] < '2019-04-16')].reset_index()    # Select all rows where the 'Date' is from '2019-04-01 to '2019-04-16' (excluded)\n",
    "X_test = stock[stock['Date'] >= '2019-04-16'].reset_index()      # Select all rows where the 'Date' is from '2019-04-16' till the end."
   ]
  },
  {
   "cell_type": "code",
   "execution_count": 0,
   "metadata": {
    "application/vnd.databricks.v1+cell": {
     "cellMetadata": {},
     "inputWidgets": {},
     "nuid": "78043f1a-f6cc-4861-adc3-73e5fd30ce6b",
     "showTitle": false,
     "tableResultSettingsMap": {},
     "title": ""
    }
   },
   "outputs": [],
   "source": [
    "# 'Label' column is the target variable (lower cse variables)\n",
    "y_train = X_train[\"Label\"].copy()\n",
    "y_val = X_val[\"Label\"].copy()\n",
    "y_test = X_test[\"Label\"].copy()"
   ]
  },
  {
   "cell_type": "code",
   "execution_count": 0,
   "metadata": {
    "application/vnd.databricks.v1+cell": {
     "cellMetadata": {},
     "inputWidgets": {},
     "nuid": "4c043671-eb3f-4a00-a0fa-580c82862301",
     "showTitle": false,
     "tableResultSettingsMap": {},
     "title": ""
    }
   },
   "outputs": [],
   "source": [
    "# Print the shape of X_train,X_val,X_test,y_train,y_val and y_test\n",
    "print(\"\\nTrain data shape\",X_train.shape)\n",
    "print(\"Validation data shape\",X_val.shape)\n",
    "print(\"Test data shape \",X_test.shape)\n",
    "line= '_' * 25\n",
    "print(line)\n",
    "print(\"\\nTrain Label shape\",y_train.shape)\n",
    "print(\"Validation Label shape\",y_val.shape)\n",
    "print(\"Test Label shape \",y_test.shape)"
   ]
  },
  {
   "cell_type": "markdown",
   "metadata": {
    "application/vnd.databricks.v1+cell": {
     "cellMetadata": {},
     "inputWidgets": {},
     "nuid": "11f03bdc-2dce-4add-b254-5b7d99d02203",
     "showTitle": false,
     "tableResultSettingsMap": {},
     "title": ""
    }
   },
   "source": [
    "## Word Embeddings"
   ]
  },
  {
   "cell_type": "markdown",
   "metadata": {
    "application/vnd.databricks.v1+cell": {
     "cellMetadata": {},
     "inputWidgets": {},
     "nuid": "e4c30ccd-40ae-415a-a2f3-347fa9b62bb4",
     "showTitle": false,
     "tableResultSettingsMap": {},
     "title": ""
    }
   },
   "source": [
    "#### Model 1 - Word2Vec"
   ]
  },
  {
   "cell_type": "code",
   "execution_count": 0,
   "metadata": {
    "application/vnd.databricks.v1+cell": {
     "cellMetadata": {},
     "inputWidgets": {},
     "nuid": "a5390c0f-98be-4d93-aafd-af1cc870b4a3",
     "showTitle": false,
     "tableResultSettingsMap": {},
     "title": ""
    }
   },
   "outputs": [],
   "source": [
    "words_list = [item.split(\" \") for item in stock['News'].values] # Creating a list of all words in our data"
   ]
  },
  {
   "cell_type": "code",
   "execution_count": 0,
   "metadata": {
    "application/vnd.databricks.v1+cell": {
     "cellMetadata": {},
     "inputWidgets": {},
     "nuid": "25544c71-ebe2-4f32-a86b-22e514082724",
     "showTitle": false,
     "tableResultSettingsMap": {},
     "title": ""
    }
   },
   "outputs": [],
   "source": [
    "# Creating an instance of Word2Vec\n",
    "vec_size = 300 # Determines the number of features used to represent each word in the vector space. A higher vec_size can increase computational complexity as it captures more nuances.\n",
    "model_W2V = Word2Vec(words_list, vector_size = vec_size, min_count = 1, window=5, workers = 6) # Model will learn these embeddings by analyzing word co-occurrences within a context window of 5 words."
   ]
  },
  {
   "cell_type": "markdown",
   "metadata": {
    "application/vnd.databricks.v1+cell": {
     "cellMetadata": {},
     "inputWidgets": {},
     "nuid": "09fe2dc8-3d50-4a8b-baac-0f31b1ab9dc3",
     "showTitle": false,
     "tableResultSettingsMap": {},
     "title": ""
    }
   },
   "source": [
    "<h3>Word2Vec Parameters for our Model</h2>\n",
    "\n",
    "  <table>\n",
    "    <tr>\n",
    "      <th>Parameter</th>\n",
    "      <th>Description</th>\n",
    "      <th>Value</th>\n",
    "      <th>Comment</th>\n",
    "    </tr>\n",
    "    <tr>\n",
    "      <td>`vec_size`</td>\n",
    "      <td>Dimensionality of word vectors</td>\n",
    "      <td>300</td>\n",
    "      <td>It determines the number of features used to represent each word in the vector space.</td>\n",
    "    </tr>\n",
    "    <tr>\n",
    "      <td>`model_W2V`</td>\n",
    "      <td>Word2Vec model instance</td>\n",
    "      <td>-</td>\n",
    "      <td>The Word2Vec model learns these representations by analyzing the co-occurrence patterns of words in the input text.</td>\n",
    "    </tr>\n",
    "    <tr>\n",
    "      <td>`words_list`</td>\n",
    "      <td>Input data (list of sentences or words)</td>\n",
    "      <td>-</td>\n",
    "      <td>This argument represents the input data for the model. The model will learn word embeddings based on the words and their contexts within these sentences.</td>\n",
    "    </tr>\n",
    "    <tr>\n",
    "      <td>`vector_size`</td>\n",
    "      <td>Dimensionality of word vectors</td>\n",
    "      <td>300</td>\n",
    "      <td>In this case, it is set to 300, meaning that **each word** will be represented by a vector with 300 dimensions.</td>\n",
    "    </tr>\n",
    "    <tr>\n",
    "      <td>`min_count`</td>\n",
    "      <td>Minimum word frequency to be included</td>\n",
    "      <td>1</td>\n",
    "      <td>Specifies the minimum number of times a word must appear in the training data to be included in the model's vocabulary.</td>\n",
    "    </tr>\n",
    "    <tr>\n",
    "      <td>`window`</td>\n",
    "      <td>Context window size</td>\n",
    "      <td>5</td>\n",
    "      <td>Context window around a target word. The model considers words within a window before and after the target word **to learn its vector representation**.</td>\n",
    "    </tr>\n",
    "    <tr>\n",
    "      <td>`workers`</td>\n",
    "      <td>Number of worker threads</td>\n",
    "      <td>6</td>\n",
    "      <td>Using multiple workers can significantly speed up the training process, especially for large datasets.</td>\n",
    "    </tr>\n",
    "  </table>\n",
    "\n",
    "</body>\n",
    "</html>"
   ]
  },
  {
   "cell_type": "code",
   "execution_count": 0,
   "metadata": {
    "application/vnd.databricks.v1+cell": {
     "cellMetadata": {},
     "inputWidgets": {},
     "nuid": "82baf034-7ae8-4b87-826c-aeb0facff453",
     "showTitle": false,
     "tableResultSettingsMap": {},
     "title": ""
    }
   },
   "outputs": [],
   "source": [
    "print(\"Length of the vocabulary is\", len(list(model_W2V.wv.key_to_index))) # Size of the vocabulary or number of unique words that the Word2Vec model has learned representations for."
   ]
  },
  {
   "cell_type": "markdown",
   "metadata": {
    "application/vnd.databricks.v1+cell": {
     "cellMetadata": {},
     "inputWidgets": {},
     "nuid": "77a124d7-0f4d-4d5f-ae0a-c53500a8fec6",
     "showTitle": false,
     "tableResultSettingsMap": {},
     "title": ""
    }
   },
   "source": [
    "- The Number of Unique Words or Vocabulary above (4692)"
   ]
  },
  {
   "cell_type": "code",
   "execution_count": 0,
   "metadata": {
    "application/vnd.databricks.v1+cell": {
     "cellMetadata": {},
     "inputWidgets": {},
     "nuid": "cd1dd042-14d8-4ce2-8c1c-45cc5a59bcc9",
     "showTitle": false,
     "tableResultSettingsMap": {},
     "title": ""
    }
   },
   "outputs": [],
   "source": [
    "word = \"stock\"     # Selected word used frequently.\n",
    "model_W2V.wv[word] # Observe the word embedding of a selected word"
   ]
  },
  {
   "cell_type": "code",
   "execution_count": 0,
   "metadata": {
    "application/vnd.databricks.v1+cell": {
     "cellMetadata": {},
     "inputWidgets": {},
     "nuid": "bf40a8d5-d9f9-4b0f-8eae-2febdcb35169",
     "showTitle": false,
     "tableResultSettingsMap": {},
     "title": ""
    }
   },
   "outputs": [],
   "source": [
    "word = \"economy\"   # Second selected word\n",
    "model_W2V.wv[word] # Observe the word embedding of the second selected word"
   ]
  },
  {
   "cell_type": "code",
   "execution_count": 0,
   "metadata": {
    "application/vnd.databricks.v1+cell": {
     "cellMetadata": {},
     "inputWidgets": {},
     "nuid": "a326cd66-6802-4649-a0fd-3597844f01c7",
     "showTitle": false,
     "tableResultSettingsMap": {},
     "title": ""
    }
   },
   "outputs": [],
   "source": [
    "words = list(model_W2V.wv.key_to_index.keys()) # Retrieve the words present in the --Word2Vec-- model's vocabulary\n",
    "wvs = model_W2V.wv[words].tolist()             # Retrieve word vectors for all the words present in the model's vocabulary\n",
    "word_vector_dict = dict(zip(words, wvs))       # Create a dictionary of words and their corresponding vectors"
   ]
  },
  {
   "cell_type": "code",
   "execution_count": 0,
   "metadata": {
    "application/vnd.databricks.v1+cell": {
     "cellMetadata": {},
     "inputWidgets": {},
     "nuid": "bd2129b3-f9e6-4033-b11a-62516b5f7338",
     "showTitle": false,
     "tableResultSettingsMap": {},
     "title": ""
    }
   },
   "outputs": [],
   "source": [
    "def average_vectorizer_Word2Vec(doc):\n",
    "    # Initializing a feature vector for the sentence\n",
    "    feature_vector = np.zeros((vec_size,), dtype=\"float64\")\n",
    "\n",
    "    # Create a list of words in the sentence that are present in the model vocabulary\n",
    "    words_in_vocab = [word for word in doc.split() if word in words]\n",
    "\n",
    "    # Add the vector representations of the words\n",
    "    for word in words_in_vocab:\n",
    "        feature_vector += np.array(word_vector_dict[word])\n",
    "\n",
    "    # Divide by the number of words to get the average vector\n",
    "    if len(words_in_vocab) != 0:\n",
    "        feature_vector /= len(words_in_vocab)\n",
    "\n",
    "    return feature_vector"
   ]
  },
  {
   "cell_type": "code",
   "execution_count": 0,
   "metadata": {
    "application/vnd.databricks.v1+cell": {
     "cellMetadata": {},
     "inputWidgets": {},
     "nuid": "86e70625-b497-40f9-9281-664dd543af1e",
     "showTitle": false,
     "tableResultSettingsMap": {},
     "title": ""
    }
   },
   "outputs": [],
   "source": [
    "# Create a dataframe of the vectorized documents\n",
    "start = time.time()\n",
    "\n",
    "X_train_wv = pd.DataFrame(X_train[\"News\"].apply(average_vectorizer_Word2Vec).tolist(), columns=['Feature '+str(i) for i in range(vec_size)])\n",
    "X_val_wv = pd.DataFrame(X_val[\"News\"].apply(average_vectorizer_Word2Vec).tolist(), columns=['Feature '+str(i) for i in range(vec_size)])\n",
    "X_test_wv = pd.DataFrame(X_test[\"News\"].apply(average_vectorizer_Word2Vec).tolist(), columns=['Feature '+str(i) for i in range(vec_size)])\n",
    "\n",
    "end = time.time()\n",
    "print('Time taken ', (end-start))"
   ]
  },
  {
   "cell_type": "code",
   "execution_count": 0,
   "metadata": {
    "application/vnd.databricks.v1+cell": {
     "cellMetadata": {},
     "inputWidgets": {},
     "nuid": "586052a5-bd80-4253-a3e5-04c11c581865",
     "showTitle": false,
     "tableResultSettingsMap": {},
     "title": ""
    }
   },
   "outputs": [],
   "source": [
    "print(X_train_wv.shape,'train split\\n', X_val_wv.shape,'validation split\\n', X_test_wv.shape,'test split\\n') # Train-Validatio-Test Splits"
   ]
  },
  {
   "cell_type": "markdown",
   "metadata": {
    "application/vnd.databricks.v1+cell": {
     "cellMetadata": {},
     "inputWidgets": {},
     "nuid": "dea53419-d044-4aae-b7a6-a7ca6b502a61",
     "showTitle": false,
     "tableResultSettingsMap": {},
     "title": ""
    }
   },
   "source": [
    "#### Model 2 - GloVe"
   ]
  },
  {
   "cell_type": "code",
   "execution_count": 0,
   "metadata": {
    "application/vnd.databricks.v1+cell": {
     "cellMetadata": {},
     "inputWidgets": {},
     "nuid": "7fb1fb13-1152-46f3-83ee-cadf8e00db45",
     "showTitle": false,
     "tableResultSettingsMap": {},
     "title": ""
    }
   },
   "outputs": [],
   "source": [
    "\n",
    "# Download the GloVe model (Stanford's) if it doesn't exist\n",
    "!wget http://nlp.stanford.edu/data/glove.6B.zip\n",
    "!unzip glove.6B.zip\n",
    "\n",
    "# Convert GloVe to word2vec format\n",
    "glove_input_file = 'glove.6B.100d.txt'\n",
    "word2vec_output_file = 'glove.6B.100d.txt.word2vec'\n",
    "glove2word2vec(glove_input_file, word2vec_output_file)\n",
    "\n",
    "# Load the converted model\n",
    "filename = 'glove.6B.100d.txt.word2vec'\n",
    "glove_model = KeyedVectors.load_word2vec_format(filename, binary=False)"
   ]
  },
  {
   "cell_type": "code",
   "execution_count": 0,
   "metadata": {
    "application/vnd.databricks.v1+cell": {
     "cellMetadata": {},
     "inputWidgets": {},
     "nuid": "c447b96b-3c60-4a2c-9686-e376ded4fe49",
     "showTitle": false,
     "tableResultSettingsMap": {},
     "title": ""
    }
   },
   "outputs": [],
   "source": [
    "print(\"Length of the vocabulary is\", len(glove_model.index_to_key)) # Check the size of the vocabulary"
   ]
  },
  {
   "cell_type": "code",
   "execution_count": 0,
   "metadata": {
    "application/vnd.databricks.v1+cell": {
     "cellMetadata": {},
     "inputWidgets": {},
     "nuid": "c81abf5d-81ec-4450-a8b5-cce8a0a7bad3",
     "showTitle": false,
     "tableResultSettingsMap": {},
     "title": ""
    }
   },
   "outputs": [],
   "source": [
    "word = \"stock\"    # Select the word embedding for first word. A very frequently used word.\n",
    "glove_model[word] # View the word embedding of selected word"
   ]
  },
  {
   "cell_type": "code",
   "execution_count": 0,
   "metadata": {
    "application/vnd.databricks.v1+cell": {
     "cellMetadata": {},
     "inputWidgets": {},
     "nuid": "d4f8befd-bebd-4b90-9d9f-2c6790495c30",
     "showTitle": false,
     "tableResultSettingsMap": {},
     "title": ""
    }
   },
   "outputs": [],
   "source": [
    "word = \"economy\"  # Select the word embedding for a second word.\n",
    "glove_model[word] # View the word embedding of selected word"
   ]
  },
  {
   "cell_type": "code",
   "execution_count": 0,
   "metadata": {
    "application/vnd.databricks.v1+cell": {
     "cellMetadata": {},
     "inputWidgets": {},
     "nuid": "483fa978-2a41-46b6-8087-148e832cf655",
     "showTitle": false,
     "tableResultSettingsMap": {},
     "title": ""
    }
   },
   "outputs": [],
   "source": [
    "glove_words = glove_model.index_to_key                                                 # Retrieve the words present in the GloVe model's vocabulary\n",
    "glove_word_vector_dict = dict(zip(glove_model.index_to_key,list(glove_model.vectors))) # Create a dictionary of words and their corresponding vectors"
   ]
  },
  {
   "cell_type": "code",
   "execution_count": 0,
   "metadata": {
    "application/vnd.databricks.v1+cell": {
     "cellMetadata": {},
     "inputWidgets": {},
     "nuid": "2cb57a10-2749-4f1f-9039-4543dea930b6",
     "showTitle": false,
     "tableResultSettingsMap": {},
     "title": ""
    }
   },
   "outputs": [],
   "source": [
    "# Each word can be represented by a 100-dimensional vector (100 features).\n",
    "vec_size=100 # Specifies the number of dimensions for the embedding space."
   ]
  },
  {
   "cell_type": "code",
   "execution_count": 0,
   "metadata": {
    "application/vnd.databricks.v1+cell": {
     "cellMetadata": {},
     "inputWidgets": {},
     "nuid": "d31b9994-dcdd-4529-bb9d-4a22aee6cfdf",
     "showTitle": false,
     "tableResultSettingsMap": {},
     "title": ""
    }
   },
   "outputs": [],
   "source": [
    "def average_vectorizer_GloVe(doc):\n",
    "    # Initializing a feature vector for the sentence\n",
    "    feature_vector = np.zeros((vec_size,), dtype=\"float64\")\n",
    "\n",
    "    # Creating a list of words in the sentence that are present in the model vocabulary\n",
    "    words_in_vocab = [word for word in doc.split() if word in glove_words]\n",
    "\n",
    "    # adding the vector representations of the words\n",
    "    for word in words_in_vocab:\n",
    "        feature_vector += np.array(glove_word_vector_dict[word])\n",
    "\n",
    "    # Dividing by the number of words to get the average vector\n",
    "    if len(words_in_vocab) != 0:\n",
    "        feature_vector /= len(words_in_vocab)\n",
    "\n",
    "    return feature_vector"
   ]
  },
  {
   "cell_type": "code",
   "execution_count": 0,
   "metadata": {
    "application/vnd.databricks.v1+cell": {
     "cellMetadata": {},
     "inputWidgets": {},
     "nuid": "0f0afcf6-274d-469c-9ed6-ee98a45a38ff",
     "showTitle": false,
     "tableResultSettingsMap": {},
     "title": ""
    }
   },
   "outputs": [],
   "source": [
    "\n",
    "# Create a dataframe of the vectorized documents\n",
    "start = time.time()\n",
    "\n",
    "X_train_gl = pd.DataFrame(X_train[\"News\"].apply(average_vectorizer_GloVe).tolist(), columns=['Feature '+str(i) for i in range(vec_size)]) # Apply GloVe on 'News' column for Training set.\n",
    "X_val_gl = pd.DataFrame(X_val[\"News\"].apply(average_vectorizer_GloVe).tolist(), columns=['Feature '+str(i) for i in range(vec_size)])     # Apply GloVe on 'News' column For Validation set.\n",
    "X_test_gl = pd.DataFrame(X_test[\"News\"].apply(average_vectorizer_GloVe).tolist(), columns=['Feature '+str(i) for i in range(vec_size)])   # Apply GloVe on 'News' column for Testing set.\n",
    "\n",
    "end = time.time()\n",
    "print('Time taken ', (end-start))"
   ]
  },
  {
   "cell_type": "code",
   "execution_count": 0,
   "metadata": {
    "application/vnd.databricks.v1+cell": {
     "cellMetadata": {},
     "inputWidgets": {},
     "nuid": "aeb9e825-54de-4a5c-8de0-b438dfabd71d",
     "showTitle": false,
     "tableResultSettingsMap": {},
     "title": ""
    }
   },
   "outputs": [],
   "source": [
    "print(f'Time taken to create a dataframe of the vectorized documents using GloVe \\033[1m{end - start:.6f} seconds.') # Rounded to 6 significant digits."
   ]
  },
  {
   "cell_type": "code",
   "execution_count": 0,
   "metadata": {
    "application/vnd.databricks.v1+cell": {
     "cellMetadata": {},
     "inputWidgets": {},
     "nuid": "4e14d68f-c75e-4e9f-9efa-3aab2cf0aa0c",
     "showTitle": false,
     "tableResultSettingsMap": {},
     "title": ""
    }
   },
   "outputs": [],
   "source": [
    "print('For GloVe:\\n', X_train_gl.shape,'train split\\n', X_val_gl.shape,'validation split\\n', X_test_gl.shape,'test split\\n') # Train-Validatio-Test Splits"
   ]
  },
  {
   "cell_type": "markdown",
   "metadata": {
    "application/vnd.databricks.v1+cell": {
     "cellMetadata": {},
     "inputWidgets": {},
     "nuid": "17cfdb51-3c74-4c43-96c7-deeaf8a4e43b",
     "showTitle": false,
     "tableResultSettingsMap": {},
     "title": ""
    }
   },
   "source": [
    "## Model 3 - Sentence Transformer"
   ]
  },
  {
   "cell_type": "code",
   "execution_count": 0,
   "metadata": {
    "application/vnd.databricks.v1+cell": {
     "cellMetadata": {},
     "inputWidgets": {},
     "nuid": "344dd07f-ad76-4b05-8433-2e5d4d80f241",
     "showTitle": false,
     "tableResultSettingsMap": {},
     "title": ""
    }
   },
   "outputs": [],
   "source": [
    "model = SentenceTransformer('sentence-transformers/all-MiniLM-L6-v2') # Defining the model for text classification, semantic search and sentiment analysis."
   ]
  },
  {
   "cell_type": "code",
   "execution_count": 0,
   "metadata": {
    "application/vnd.databricks.v1+cell": {
     "cellMetadata": {},
     "inputWidgets": {},
     "nuid": "aa9d951b-aafe-495d-ba7d-355675a24a2a",
     "showTitle": false,
     "tableResultSettingsMap": {},
     "title": ""
    }
   },
   "outputs": [],
   "source": [
    "device = torch.device(\"cuda\" if torch.cuda.is_available() else \"cpu\") # Setting the device to GPU if available, else CPU"
   ]
  },
  {
   "cell_type": "code",
   "execution_count": 0,
   "metadata": {
    "application/vnd.databricks.v1+cell": {
     "cellMetadata": {},
     "inputWidgets": {},
     "nuid": "7f700f68-fdad-45ec-950f-fef709207cc3",
     "showTitle": false,
     "tableResultSettingsMap": {},
     "title": ""
    }
   },
   "outputs": [],
   "source": [
    "# Encoding the dataset splits with the Transformer Model\n",
    "start = time.time()\n",
    "\n",
    "X_train_st = model.encode(X_train[\"News\"].values, show_progress_bar=True, device=device) # Apply Sentence Transformer on 'News' column for the Training set.\n",
    "X_val_st = model.encode(X_val[\"News\"].values, show_progress_bar=True, device=device)     # Apply Sentence Transformer on 'News' column for the Validation set.\n",
    "X_test_st = model.encode(X_test[\"News\"].values, show_progress_bar=True, device=device)   # Apply Sentence Transformer on 'News' column for the Test set.\n",
    "\n",
    "end = time.time()\n",
    "print(f'Time taken using a Transformer \\033[1m{end - start:.6f} seconds.') # Rounded to 6 significant digits."
   ]
  },
  {
   "cell_type": "code",
   "execution_count": 0,
   "metadata": {
    "application/vnd.databricks.v1+cell": {
     "cellMetadata": {},
     "inputWidgets": {},
     "nuid": "593516c0-441c-453f-bbb1-61a28cdb2679",
     "showTitle": false,
     "tableResultSettingsMap": {},
     "title": ""
    }
   },
   "outputs": [],
   "source": [
    "print('For our Transformer model:\\n', X_train_st.shape,'train split\\n', X_val_st.shape,'validation split\\n', X_test_st.shape,'test split\\n') # Train-Validatio-Test Splits"
   ]
  },
  {
   "cell_type": "markdown",
   "metadata": {
    "application/vnd.databricks.v1+cell": {
     "cellMetadata": {},
     "inputWidgets": {},
     "nuid": "9aa3822f-5e15-4549-adf4-c001443fe609",
     "showTitle": false,
     "tableResultSettingsMap": {},
     "title": ""
    }
   },
   "source": [
    "## Model Evaluation Criterion\n",
    "\n",
    "For each Model we will look for:\n",
    "\n",
    "- Accuracy and F1 Scores from Sentiment Predictions (Labels) by measuring the Confusion Matrix for each model and compare them.\n",
    "- Computational Cost: Consider the time and resources required to train and use each model. We can compare processing times for each model and compare them.\n",
    "- I will select the same Classifier when comparing all 3 models.\n",
    "- We could run more extensive training, (Colab permitting) by trying each of the following classifiers:\n",
    "  - GradientBoostingClassifier\n",
    "  - RandomForestClassifier\n",
    "  - DecisionTreeClassifier\n",
    "\n",
    "We Need to Consider these factors:\n",
    "- Vector Size: While not the sole determinant, larger vectors (like Transformer's 384) can potentially capture more complex relationships but may also be computationally more expensive.\n",
    "- Training Data: The quality and size of the data used to train each model significantly impacts performance."
   ]
  },
  {
   "cell_type": "code",
   "execution_count": 0,
   "metadata": {
    "application/vnd.databricks.v1+cell": {
     "cellMetadata": {},
     "inputWidgets": {},
     "nuid": "ad33d154-6dc6-4853-bc81-9836e4e305bc",
     "showTitle": false,
     "tableResultSettingsMap": {},
     "title": ""
    }
   },
   "outputs": [],
   "source": [
    "def plot_confusion_matrix(model, predictors, target):\n",
    "    \"\"\"\n",
    "    Plot a confusion matrix to visualize the performance of a classification model.\n",
    "\n",
    "    Parameters:\n",
    "    actual (array-like): The true labels.\n",
    "    predicted (array-like): The predicted labels from the model.\n",
    "\n",
    "    Returns:\n",
    "    None: Displays the confusion matrix plot.\n",
    "    \"\"\"\n",
    "    pred = model.predict(predictors)  # Make predictions using the classifier.\n",
    "\n",
    "    cm = confusion_matrix(target, pred)  # Compute the confusion matrix.\n",
    "\n",
    "    plt.figure(figsize=(5, 4))  # Create a new figure with a specified size.\n",
    "    label_list = [0, 1,-1]  # Define the labels for the confusion matrix.\n",
    "    sns.heatmap(cm, annot=True, fmt='.0f', cmap='Blues', xticklabels=label_list, yticklabels=label_list)\n",
    "    # Plot the confusion matrix using a heatmap with annotations.\n",
    "\n",
    "    plt.ylabel('Actual')  # Label for the y-axis.\n",
    "    plt.xlabel('Predicted')  # Label for the x-axis.\n",
    "    plt.title('Confusion Matrix')  # Title of the plot.\n",
    "    plt.show()  # Display the plot."
   ]
  },
  {
   "cell_type": "code",
   "execution_count": 0,
   "metadata": {
    "application/vnd.databricks.v1+cell": {
     "cellMetadata": {},
     "inputWidgets": {},
     "nuid": "8fc415a2-11d8-4735-9339-4819fb46a2d1",
     "showTitle": false,
     "tableResultSettingsMap": {},
     "title": ""
    }
   },
   "outputs": [],
   "source": [
    "def model_performance_classification_sklearn(model, predictors, target):\n",
    "    \"\"\"\n",
    "    Compute various performance metrics for a classification model using sklearn.\n",
    "\n",
    "    Parameters:\n",
    "    model (sklearn classifier): The classification model to evaluate.\n",
    "    predictors (array-like): The independent variables used for predictions.\n",
    "    target (array-like): The true labels for the dependent variable.\n",
    "\n",
    "    Returns:\n",
    "    pandas.DataFrame: A DataFrame containing the computed metrics (Accuracy, Recall, Precision, F1-score).\n",
    "    \"\"\"\n",
    "    pred = model.predict(predictors)  # Make predictions using the classifier.\n",
    "\n",
    "    acc = accuracy_score(target, pred)  # Compute Accuracy.\n",
    "    recall = recall_score(target, pred,average='weighted')  # Compute Recall.\n",
    "    precision = precision_score(target, pred,average='weighted')  # Compute Precision.\n",
    "    f1 = f1_score(target, pred,average='weighted')  # Compute F1-score.\n",
    "\n",
    "    # Create a DataFrame to store the computed metrics.\n",
    "    df_perf = pd.DataFrame(\n",
    "        {\n",
    "            \"Accuracy\": [acc],\n",
    "            \"Recall\": [recall],\n",
    "            \"Precision\": [precision],\n",
    "            \"F1\": [f1],\n",
    "        }\n",
    "    )\n",
    "\n",
    "    return df_perf  # Return the DataFrame with the metrics."
   ]
  },
  {
   "cell_type": "markdown",
   "metadata": {
    "application/vnd.databricks.v1+cell": {
     "cellMetadata": {},
     "inputWidgets": {},
     "nuid": "938fd387-5bcb-4d5c-b032-15c1c755c9b7",
     "showTitle": false,
     "tableResultSettingsMap": {},
     "title": ""
    }
   },
   "source": [
    "## Untuned - Model Training"
   ]
  },
  {
   "cell_type": "markdown",
   "metadata": {
    "application/vnd.databricks.v1+cell": {
     "cellMetadata": {},
     "inputWidgets": {},
     "nuid": "d2311709-e299-4ba6-9d5a-935bba4bae35",
     "showTitle": false,
     "tableResultSettingsMap": {},
     "title": ""
    }
   },
   "source": [
    "#### Untuned: Word2Vec"
   ]
  },
  {
   "cell_type": "code",
   "execution_count": 0,
   "metadata": {
    "application/vnd.databricks.v1+cell": {
     "cellMetadata": {},
     "inputWidgets": {},
     "nuid": "2a1ce141-7131-4bbf-aa90-bdbc0d878dfd",
     "showTitle": false,
     "tableResultSettingsMap": {},
     "title": ""
    }
   },
   "outputs": [],
   "source": [
    "# Building the model\n",
    "\n",
    "#Uncomment only one of the snippets related to fitting the model to the data\n",
    "\n",
    "#base_wv = GradientBoostingClassifier(random_state = 42)\n",
    "#base_wv = RandomForestClassifier(random_state=42)\n",
    "base_wv = DecisionTreeClassifier(random_state=42)\n",
    "\n",
    "# Fitting on train data\n",
    "base_wv.fit(X_train_wv, y_train)"
   ]
  },
  {
   "cell_type": "code",
   "execution_count": 0,
   "metadata": {
    "application/vnd.databricks.v1+cell": {
     "cellMetadata": {},
     "inputWidgets": {},
     "nuid": "e6b6dd9d-a0ec-49cd-8320-3455da78c08f",
     "showTitle": false,
     "tableResultSettingsMap": {},
     "title": ""
    }
   },
   "outputs": [],
   "source": [
    "plot_confusion_matrix(base_wv,X_train_wv,y_train) # Training"
   ]
  },
  {
   "cell_type": "code",
   "execution_count": 0,
   "metadata": {
    "application/vnd.databricks.v1+cell": {
     "cellMetadata": {},
     "inputWidgets": {},
     "nuid": "c979d02d-7337-432c-be46-444c25ea0df4",
     "showTitle": false,
     "tableResultSettingsMap": {},
     "title": ""
    }
   },
   "outputs": [],
   "source": [
    "plot_confusion_matrix(base_wv,X_val_wv,y_val) # Validation"
   ]
  },
  {
   "cell_type": "code",
   "execution_count": 0,
   "metadata": {
    "application/vnd.databricks.v1+cell": {
     "cellMetadata": {},
     "inputWidgets": {},
     "nuid": "d4e1daae-e534-4b82-9d56-2e5158a034cf",
     "showTitle": false,
     "tableResultSettingsMap": {},
     "title": ""
    }
   },
   "outputs": [],
   "source": [
    "# Calculating different metrics on training data\n",
    "base_train_wv = model_performance_classification_sklearn(base_wv,X_train_wv,y_train)\n",
    "print(\"Training performance:\\n\", base_train_wv)"
   ]
  },
  {
   "cell_type": "code",
   "execution_count": 0,
   "metadata": {
    "application/vnd.databricks.v1+cell": {
     "cellMetadata": {},
     "inputWidgets": {},
     "nuid": "4d9ad282-925e-4928-93f6-41f98279175d",
     "showTitle": false,
     "tableResultSettingsMap": {},
     "title": ""
    }
   },
   "outputs": [],
   "source": [
    "# Calculating different metrics on validation data\n",
    "base_val_wv = model_performance_classification_sklearn(base_wv,X_val_wv,y_val)\n",
    "print(\"Validation performance:\\n\",base_val_wv)"
   ]
  },
  {
   "cell_type": "markdown",
   "metadata": {
    "application/vnd.databricks.v1+cell": {
     "cellMetadata": {},
     "inputWidgets": {},
     "nuid": "d69a0767-6a15-4acd-ac6e-26a8a863115b",
     "showTitle": false,
     "tableResultSettingsMap": {},
     "title": ""
    }
   },
   "source": [
    "#### Untuned: GloVe"
   ]
  },
  {
   "cell_type": "code",
   "execution_count": 0,
   "metadata": {
    "application/vnd.databricks.v1+cell": {
     "cellMetadata": {},
     "inputWidgets": {},
     "nuid": "76aa39e6-ce84-458c-960a-7f043721ab71",
     "showTitle": false,
     "tableResultSettingsMap": {},
     "title": ""
    }
   },
   "outputs": [],
   "source": [
    "#Building the model\n",
    "\n",
    "#Uncomment only one of the snippets related to fitting the model to the data\n",
    "\n",
    "#base_wv = GradientBoostingClassifier(random_state = 42)\n",
    "#base_wv = RandomForestClassifier(random_state=42)\n",
    "base_gl = DecisionTreeClassifier(random_state=42)\n",
    "\n",
    "# Fitting on train data\n",
    "base_gl.fit(X_train_gl, y_train) #Complete the code to fit the chosen model on the train data"
   ]
  },
  {
   "cell_type": "code",
   "execution_count": 0,
   "metadata": {
    "application/vnd.databricks.v1+cell": {
     "cellMetadata": {},
     "inputWidgets": {},
     "nuid": "22797f44-b2b8-4c96-a000-42b5a5b02da2",
     "showTitle": false,
     "tableResultSettingsMap": {},
     "title": ""
    }
   },
   "outputs": [],
   "source": [
    "plot_confusion_matrix(base_gl,X_train_gl,y_train) # Confusion matrix for the train data on GloVe"
   ]
  },
  {
   "cell_type": "code",
   "execution_count": 0,
   "metadata": {
    "application/vnd.databricks.v1+cell": {
     "cellMetadata": {},
     "inputWidgets": {},
     "nuid": "a4481fa2-e22c-417d-a12f-05a91f7b83c1",
     "showTitle": false,
     "tableResultSettingsMap": {},
     "title": ""
    }
   },
   "outputs": [],
   "source": [
    "plot_confusion_matrix(base_gl,X_val_gl,y_val) # Confusion matrix for the validation data on GloVe"
   ]
  },
  {
   "cell_type": "code",
   "execution_count": 0,
   "metadata": {
    "application/vnd.databricks.v1+cell": {
     "cellMetadata": {},
     "inputWidgets": {},
     "nuid": "347a4c1e-bc4c-4211-8b94-6a10a90fb76e",
     "showTitle": false,
     "tableResultSettingsMap": {},
     "title": ""
    }
   },
   "outputs": [],
   "source": [
    "#Calculating different metrics on training data\n",
    "base_train_gl=model_performance_classification_sklearn(base_gl,X_train_gl,y_train) # Calculate model performance for the training data on a GloVe Model\n",
    "print(\"Training performance:\\n\", base_train_gl)"
   ]
  },
  {
   "cell_type": "markdown",
   "metadata": {
    "application/vnd.databricks.v1+cell": {
     "cellMetadata": {},
     "inputWidgets": {},
     "nuid": "16747a13-8804-4bf2-97b5-196514188163",
     "showTitle": false,
     "tableResultSettingsMap": {},
     "title": ""
    }
   },
   "source": [
    "#### Untuned: Sentence Transformer"
   ]
  },
  {
   "cell_type": "code",
   "execution_count": 0,
   "metadata": {
    "application/vnd.databricks.v1+cell": {
     "cellMetadata": {},
     "inputWidgets": {},
     "nuid": "beff942a-2e7a-4b34-a258-e536436b2f8e",
     "showTitle": false,
     "tableResultSettingsMap": {},
     "title": ""
    }
   },
   "outputs": [],
   "source": [
    "#Calculating different metrics on validation data\n",
    "base_val_gl = model_performance_classification_sklearn(base_gl,X_val_gl,y_val) # Calculate model performance for the validation data on a GloVe model.\n",
    "print(\"Validation performance:\\n\",base_val_gl)"
   ]
  },
  {
   "cell_type": "code",
   "execution_count": 0,
   "metadata": {
    "application/vnd.databricks.v1+cell": {
     "cellMetadata": {},
     "inputWidgets": {},
     "nuid": "c72eaba6-bb41-4fda-99bb-0fce09719437",
     "showTitle": false,
     "tableResultSettingsMap": {},
     "title": ""
    }
   },
   "outputs": [],
   "source": [
    "# Building the model\n",
    "\n",
    "#Uncomment only one of the snippets related to fitting the model to the data\n",
    "\n",
    "#base_wv = GradientBoostingClassifier(random_state = 42)\n",
    "#base_wv = RandomForestClassifier(random_state=42)\n",
    "base_st = DecisionTreeClassifier(random_state=42)\n",
    "\n",
    "# Fitting on train data\n",
    "base_st.fit(X_train_st, y_train) #Complete the code to fit the chosen model on the train data"
   ]
  },
  {
   "cell_type": "code",
   "execution_count": 0,
   "metadata": {
    "application/vnd.databricks.v1+cell": {
     "cellMetadata": {},
     "inputWidgets": {},
     "nuid": "aa1b9ad2-1091-48d0-86f9-2da78dc865ff",
     "showTitle": false,
     "tableResultSettingsMap": {},
     "title": ""
    }
   },
   "outputs": [],
   "source": [
    "plot_confusion_matrix(base_st,X_train_st,y_train) # Confusion matrix for the train data on our Transformer model."
   ]
  },
  {
   "cell_type": "code",
   "execution_count": 0,
   "metadata": {
    "application/vnd.databricks.v1+cell": {
     "cellMetadata": {},
     "inputWidgets": {},
     "nuid": "1d84daea-6a56-4994-9adb-3ceaf24f4416",
     "showTitle": false,
     "tableResultSettingsMap": {},
     "title": ""
    }
   },
   "outputs": [],
   "source": [
    "plot_confusion_matrix(base_st,X_val_st,y_val) # Confusion matrix for the validation data on our Transformer model."
   ]
  },
  {
   "cell_type": "code",
   "execution_count": 0,
   "metadata": {
    "application/vnd.databricks.v1+cell": {
     "cellMetadata": {},
     "inputWidgets": {},
     "nuid": "296adff5-eab6-491c-a56e-4e336a96b950",
     "showTitle": false,
     "tableResultSettingsMap": {},
     "title": ""
    }
   },
   "outputs": [],
   "source": [
    "#Calculating different metrics on training data\n",
    "base_train_st=model_performance_classification_sklearn(base_st,X_train_st,y_train) # Model performance for the training data on our Transformer Model.\n",
    "print(\"Training performance:\\n\", base_train_st)"
   ]
  },
  {
   "cell_type": "code",
   "execution_count": 0,
   "metadata": {
    "application/vnd.databricks.v1+cell": {
     "cellMetadata": {},
     "inputWidgets": {},
     "nuid": "45018db5-58f6-42f7-9501-3bbc922e116d",
     "showTitle": false,
     "tableResultSettingsMap": {},
     "title": ""
    }
   },
   "outputs": [],
   "source": [
    "#Calculating different metrics on validation data\n",
    "base_val_st = model_performance_classification_sklearn(base_st,X_val_st,y_val)  # Model performance for the validation data on our Transformer Model.\n",
    "print(\"Validation performance:\\n\",base_val_st)"
   ]
  },
  {
   "cell_type": "markdown",
   "metadata": {
    "application/vnd.databricks.v1+cell": {
     "cellMetadata": {},
     "inputWidgets": {},
     "nuid": "6bfa2742-a61e-48e2-8001-24a2c620cea2",
     "showTitle": false,
     "tableResultSettingsMap": {},
     "title": ""
    }
   },
   "source": [
    "\n",
    "<h2>Decision Tree Classifier Tuning Parameters</h2>\n",
    "\n",
    "<table>\n",
    "  <tr>\n",
    "    <th>Parameter</th>\n",
    "    <th>Description</th>\n",
    "    <th>Values</th>\n",
    "  </tr>\n",
    "  <tr>\n",
    "    <td>max_depth</td>\n",
    "    <td>Maximum depth of the tree</td>\n",
    "    <td>[3, 4, 5, 6]</td>\n",
    "  </tr>\n",
    "  <tr>\n",
    "    <td>min_samples_split</td>\n",
    "    <td>Minimum number of samples required to split an internal node</td>\n",
    "    <td>[5, 7, 9, 11]</td>\n",
    "  </tr>\n",
    "  <tr>\n",
    "    <td>max_features</td>\n",
    "    <td>Number of features considered when splitting a node</td>\n",
    "    <td>['log2', 'sqrt', 0.2, 0.4]</td>\n",
    "  </tr>\n",
    "</table>\n",
    "\n",
    "</body>\n",
    "</html>"
   ]
  },
  {
   "cell_type": "code",
   "execution_count": 0,
   "metadata": {
    "application/vnd.databricks.v1+cell": {
     "cellMetadata": {},
     "inputWidgets": {},
     "nuid": "bf2f5ea7-b59e-4426-912c-29141d1afb60",
     "showTitle": false,
     "tableResultSettingsMap": {},
     "title": ""
    }
   },
   "outputs": [],
   "source": [
    "start = time.time()\n",
    "\n",
    "# Choose the type of classifier.\n",
    "\n",
    "#Uncomment only one of the snippets corrrsponding to the base model trained previously\n",
    "\n",
    "#tuned_wv = GradientBoostingClassifier(random_state = 42)\n",
    "#tuned_wv = RandomForestClassifier(random_state=42)\n",
    "tuned_wv = DecisionTreeClassifier(random_state=42)\n",
    "tuned_gl = DecisionTreeClassifier(random_state=42)\n",
    "tuned_st = DecisionTreeClassifier(random_state=42)\n",
    "\n",
    "parameters = {\n",
    "    'max_depth': np.arange(3,7),\n",
    "    'min_samples_split': np.arange(5,12,2),\n",
    "    'max_features': ['log2', 'sqrt', 0.2, 0.4]\n",
    "}\n",
    "\n",
    "# Run the grid search\n",
    "grid_obj = GridSearchCV(tuned_wv, parameters, scoring='f1_weighted',cv=5,n_jobs=-1)\n",
    "grid_obj = grid_obj.fit(X_train_wv, y_train)\n",
    "\n",
    "end = time.time()\n",
    "print(\"Time taken \",(end-start))\n",
    "\n",
    "# Set the clf to the best combination of parameters\n",
    "tuned_wv = grid_obj.best_estimator_"
   ]
  },
  {
   "cell_type": "markdown",
   "metadata": {
    "application/vnd.databricks.v1+cell": {
     "cellMetadata": {},
     "inputWidgets": {},
     "nuid": "38508f71-4ad8-4786-83ac-9e8a8ef994f0",
     "showTitle": false,
     "tableResultSettingsMap": {},
     "title": ""
    }
   },
   "source": [
    "#### Tuned: Word2Vec"
   ]
  },
  {
   "cell_type": "code",
   "execution_count": 0,
   "metadata": {
    "application/vnd.databricks.v1+cell": {
     "cellMetadata": {},
     "inputWidgets": {},
     "nuid": "1c00a3b5-06a6-4475-9883-e5e353a620f6",
     "showTitle": false,
     "tableResultSettingsMap": {},
     "title": ""
    }
   },
   "outputs": [],
   "source": [
    "# Fit the best algorithm to the data.\n",
    "tuned_wv.fit(X_train_wv, y_train)"
   ]
  },
  {
   "cell_type": "code",
   "execution_count": 0,
   "metadata": {
    "application/vnd.databricks.v1+cell": {
     "cellMetadata": {},
     "inputWidgets": {},
     "nuid": "49cf3426-829d-4dda-b88c-1816c6c4e092",
     "showTitle": false,
     "tableResultSettingsMap": {},
     "title": ""
    }
   },
   "outputs": [],
   "source": [
    "plot_confusion_matrix(tuned_wv,X_train_wv,y_train)"
   ]
  },
  {
   "cell_type": "code",
   "execution_count": 0,
   "metadata": {
    "application/vnd.databricks.v1+cell": {
     "cellMetadata": {},
     "inputWidgets": {},
     "nuid": "dd0121f3-2aad-42bc-8c85-5c17820bc1bf",
     "showTitle": false,
     "tableResultSettingsMap": {},
     "title": ""
    }
   },
   "outputs": [],
   "source": [
    "plot_confusion_matrix(tuned_wv,X_val_wv,y_val)"
   ]
  },
  {
   "cell_type": "code",
   "execution_count": 0,
   "metadata": {
    "application/vnd.databricks.v1+cell": {
     "cellMetadata": {},
     "inputWidgets": {},
     "nuid": "7b01c915-5224-41d5-a854-682a5ebb23fc",
     "showTitle": false,
     "tableResultSettingsMap": {},
     "title": ""
    }
   },
   "outputs": [],
   "source": [
    "#Calculating different metrics on training data\n",
    "tuned_train_wv=model_performance_classification_sklearn(tuned_wv,X_train_wv,y_train)\n",
    "print(\"Training performance:\\n\",tuned_train_wv)"
   ]
  },
  {
   "cell_type": "code",
   "execution_count": 0,
   "metadata": {
    "application/vnd.databricks.v1+cell": {
     "cellMetadata": {},
     "inputWidgets": {},
     "nuid": "fffa9d7b-6428-4fc7-a892-95c9eb64e5e8",
     "showTitle": false,
     "tableResultSettingsMap": {},
     "title": ""
    }
   },
   "outputs": [],
   "source": [
    "#Calculating different metrics on validation data\n",
    "tuned_val_wv = model_performance_classification_sklearn(tuned_wv,X_val_wv,y_val)\n",
    "print(\"Validation performance:\\n\",tuned_val_wv)"
   ]
  },
  {
   "cell_type": "markdown",
   "metadata": {
    "application/vnd.databricks.v1+cell": {
     "cellMetadata": {},
     "inputWidgets": {},
     "nuid": "474af429-d72d-4fae-8257-edc190a62acf",
     "showTitle": false,
     "tableResultSettingsMap": {},
     "title": ""
    }
   },
   "source": [
    "#### Tuned: GloVe"
   ]
  },
  {
   "cell_type": "code",
   "execution_count": 0,
   "metadata": {
    "application/vnd.databricks.v1+cell": {
     "cellMetadata": {},
     "inputWidgets": {},
     "nuid": "781d255f-eff8-420c-acc5-53fb1707774f",
     "showTitle": false,
     "tableResultSettingsMap": {},
     "title": ""
    }
   },
   "outputs": [],
   "source": [
    "# Fit the best algorithm to the data.\n",
    "tuned_gl.fit(X_train_gl, y_train) # Fit the chosen model on the train data"
   ]
  },
  {
   "cell_type": "code",
   "execution_count": 0,
   "metadata": {
    "application/vnd.databricks.v1+cell": {
     "cellMetadata": {},
     "inputWidgets": {},
     "nuid": "e5df68e7-94c0-4f06-be2b-0b659a32199e",
     "showTitle": false,
     "tableResultSettingsMap": {},
     "title": ""
    }
   },
   "outputs": [],
   "source": [
    "plot_confusion_matrix(tuned_gl,X_train_gl, y_train) # Confusion matrix for the train data"
   ]
  },
  {
   "cell_type": "code",
   "execution_count": 0,
   "metadata": {
    "application/vnd.databricks.v1+cell": {
     "cellMetadata": {},
     "inputWidgets": {},
     "nuid": "e73fcc01-8dcb-4ded-8324-48618bd108cc",
     "showTitle": false,
     "tableResultSettingsMap": {},
     "title": ""
    }
   },
   "outputs": [],
   "source": [
    "plot_confusion_matrix(tuned_gl,X_val_gl,y_val) # Confusion matrix for the validation data"
   ]
  },
  {
   "cell_type": "code",
   "execution_count": 0,
   "metadata": {
    "application/vnd.databricks.v1+cell": {
     "cellMetadata": {},
     "inputWidgets": {},
     "nuid": "77e17c85-57b4-4bc1-9599-c4675a539fd2",
     "showTitle": false,
     "tableResultSettingsMap": {},
     "title": ""
    }
   },
   "outputs": [],
   "source": [
    "# Metrics on training data\n",
    "tuned_train_gl=model_performance_classification_sklearn(tuned_gl,X_train_gl, y_train) # Model performance for the training data on GloVe model.\n",
    "print(\"Training performance:\\n\",tuned_train_gl)"
   ]
  },
  {
   "cell_type": "code",
   "execution_count": 0,
   "metadata": {
    "application/vnd.databricks.v1+cell": {
     "cellMetadata": {},
     "inputWidgets": {},
     "nuid": "4f97ca21-f3e7-41f7-9140-dbeec2053f09",
     "showTitle": false,
     "tableResultSettingsMap": {},
     "title": ""
    }
   },
   "outputs": [],
   "source": [
    "#Calculating different metrics on validation data\n",
    "tuned_val_gl = model_performance_classification_sklearn(tuned_gl,X_val_gl,y_val) # Model performance for the validation data on GloVe model.\n",
    "print(\"Validation performance:\\n\",tuned_val_gl)"
   ]
  },
  {
   "cell_type": "markdown",
   "metadata": {
    "application/vnd.databricks.v1+cell": {
     "cellMetadata": {},
     "inputWidgets": {},
     "nuid": "50170450-07ca-4107-ab69-69621c223a17",
     "showTitle": false,
     "tableResultSettingsMap": {},
     "title": ""
    }
   },
   "source": [
    "#### Tuned: Sentence Transformer"
   ]
  },
  {
   "cell_type": "code",
   "execution_count": 0,
   "metadata": {
    "application/vnd.databricks.v1+cell": {
     "cellMetadata": {},
     "inputWidgets": {},
     "nuid": "c295517f-48f8-4d0c-803c-561857a91d08",
     "showTitle": false,
     "tableResultSettingsMap": {},
     "title": ""
    }
   },
   "outputs": [],
   "source": [
    "# Fit the best algorithm to the data.\n",
    "tuned_st.fit(X_train_st, y_train) #Complete the code to fit the chosen model on the train data"
   ]
  },
  {
   "cell_type": "code",
   "execution_count": 0,
   "metadata": {
    "application/vnd.databricks.v1+cell": {
     "cellMetadata": {},
     "inputWidgets": {},
     "nuid": "b24fdf9a-4b30-42df-b207-57d0b926b1e0",
     "showTitle": false,
     "tableResultSettingsMap": {},
     "title": ""
    }
   },
   "outputs": [],
   "source": [
    "plot_confusion_matrix(tuned_st,X_train_st,y_train) #Complete the code to plot the confusion matrix for the train data"
   ]
  },
  {
   "cell_type": "code",
   "execution_count": 0,
   "metadata": {
    "application/vnd.databricks.v1+cell": {
     "cellMetadata": {},
     "inputWidgets": {},
     "nuid": "495fcc34-6f5b-49bf-891c-e26f2a3fde92",
     "showTitle": false,
     "tableResultSettingsMap": {},
     "title": ""
    }
   },
   "outputs": [],
   "source": [
    "plot_confusion_matrix(tuned_st,X_val_st,y_val) #Complete the code to plot the confusion matrix for the validation data"
   ]
  },
  {
   "cell_type": "code",
   "execution_count": 0,
   "metadata": {
    "application/vnd.databricks.v1+cell": {
     "cellMetadata": {},
     "inputWidgets": {},
     "nuid": "ab3233ff-6de0-4840-a105-d66ba497d270",
     "showTitle": false,
     "tableResultSettingsMap": {},
     "title": ""
    }
   },
   "outputs": [],
   "source": [
    "# Metrics on training data\n",
    "tuned_train_st=model_performance_classification_sklearn(tuned_st,X_train_st,y_train) #C Model performance for the training data\n",
    "print(\"Training performance:\\n\",tuned_train_st)"
   ]
  },
  {
   "cell_type": "code",
   "execution_count": 0,
   "metadata": {
    "application/vnd.databricks.v1+cell": {
     "cellMetadata": {},
     "inputWidgets": {},
     "nuid": "26886b7c-af4d-497a-b37c-b9579a814aae",
     "showTitle": false,
     "tableResultSettingsMap": {},
     "title": ""
    }
   },
   "outputs": [],
   "source": [
    "# Metrics on validation data\n",
    "tuned_val_st = model_performance_classification_sklearn(tuned_st,X_val_st,y_val) # Model performance for the validation data\n",
    "print(\"Validation performance:\\n\",tuned_val_st)"
   ]
  },
  {
   "cell_type": "markdown",
   "metadata": {
    "application/vnd.databricks.v1+cell": {
     "cellMetadata": {},
     "inputWidgets": {},
     "nuid": "f1758bbf-1651-4e56-a959-82462efdfdb9",
     "showTitle": false,
     "tableResultSettingsMap": {},
     "title": ""
    }
   },
   "source": [
    "## Model Selection"
   ]
  },
  {
   "cell_type": "markdown",
   "metadata": {
    "application/vnd.databricks.v1+cell": {
     "cellMetadata": {},
     "inputWidgets": {},
     "nuid": "223c5a77-5a93-477b-8bcb-1b42094dc0b6",
     "showTitle": false,
     "tableResultSettingsMap": {},
     "title": ""
    }
   },
   "source": [
    "#### Model Performance Summary"
   ]
  },
  {
   "cell_type": "code",
   "execution_count": 0,
   "metadata": {
    "application/vnd.databricks.v1+cell": {
     "cellMetadata": {},
     "inputWidgets": {},
     "nuid": "82ab1b7d-a66b-40fe-924a-420741b4a38d",
     "showTitle": false,
     "tableResultSettingsMap": {},
     "title": ""
    }
   },
   "outputs": [],
   "source": [
    "#training performance comparison\n",
    "\n",
    "models_train_comp_df = pd.concat(\n",
    "    [base_train_wv.T,\n",
    "     base_train_gl.T,\n",
    "     base_train_st.T,\n",
    "     tuned_train_wv.T,\n",
    "     tuned_train_gl.T,\n",
    "     tuned_train_st.T,\n",
    "    ],axis=1\n",
    ")\n",
    "\n",
    "models_train_comp_df.columns = [\n",
    "    \"Base Model (Word2Vec)\",\n",
    "    \"Base Model (GloVe)\",\n",
    "    \"Base Model (Sentence Transformer)\",\n",
    "    \"Tuned Model (Word2Vec)\",\n",
    "    \"Tuned Model (GloVe)\",\n",
    "    \"Tuned Model (Sentence Transformer)\",\n",
    "]\n",
    "\n",
    "print(\"Training performance comparison:\")\n",
    "models_train_comp_df"
   ]
  },
  {
   "cell_type": "code",
   "execution_count": 0,
   "metadata": {
    "application/vnd.databricks.v1+cell": {
     "cellMetadata": {},
     "inputWidgets": {},
     "nuid": "f95484d5-73f4-426b-8fc5-b045ad34ad9c",
     "showTitle": false,
     "tableResultSettingsMap": {},
     "title": ""
    }
   },
   "outputs": [],
   "source": [
    "# Validation performance comparison\n",
    "\n",
    "models_val_comp_df = pd.concat(\n",
    "    [base_val_wv.T,\n",
    "     base_val_gl.T,\n",
    "     base_val_st.T,\n",
    "     tuned_val_wv.T,\n",
    "     tuned_val_gl.T,\n",
    "     tuned_val_st.T,\n",
    "     ],axis=1\n",
    ")\n",
    "\n",
    "models_val_comp_df.columns = [\n",
    "    \"Base Model (Word2Vec)\",\n",
    "    \"Base Model (GloVe)\",\n",
    "    \"Base Model (Sentence Transformer)\",\n",
    "    \"Tuned Model (Word2Vec)\",\n",
    "    \"Tuned Model (GloVe)\",\n",
    "    \"Tuned Model (Sentence Transformer)\",\n",
    "]\n",
    "\n",
    "print(\"Validation performance comparison:\")\n",
    "models_val_comp_df"
   ]
  },
  {
   "cell_type": "markdown",
   "metadata": {
    "application/vnd.databricks.v1+cell": {
     "cellMetadata": {},
     "inputWidgets": {},
     "nuid": "291121a3-a693-486b-a1b8-80e9cbbcd059",
     "showTitle": false,
     "tableResultSettingsMap": {},
     "title": ""
    }
   },
   "source": [
    "#### Model Performance Check on Testing dataset"
   ]
  },
  {
   "cell_type": "code",
   "execution_count": 0,
   "metadata": {
    "application/vnd.databricks.v1+cell": {
     "cellMetadata": {},
     "inputWidgets": {},
     "nuid": "3d820d35-31b0-4179-9dda-5e78c053fa36",
     "showTitle": false,
     "tableResultSettingsMap": {},
     "title": ""
    }
   },
   "outputs": [],
   "source": [
    "# Fit the best model to the test data.\n",
    "tuned_st.fit(X_test_wv, y_test) # Fit the chosen model on the test data."
   ]
  },
  {
   "cell_type": "code",
   "execution_count": 0,
   "metadata": {
    "application/vnd.databricks.v1+cell": {
     "cellMetadata": {},
     "inputWidgets": {},
     "nuid": "24c60c3f-1fb3-450e-afef-31059f07c0fe",
     "showTitle": false,
     "tableResultSettingsMap": {},
     "title": ""
    }
   },
   "outputs": [],
   "source": [
    "plot_confusion_matrix(tuned_st,X_test_wv,y_test) # Confusion matrix for the final model and test data."
   ]
  },
  {
   "cell_type": "code",
   "execution_count": 0,
   "metadata": {
    "application/vnd.databricks.v1+cell": {
     "cellMetadata": {},
     "inputWidgets": {},
     "nuid": "9fb2bf16-116e-439b-87e1-98f78694e41b",
     "showTitle": false,
     "tableResultSettingsMap": {},
     "title": ""
    }
   },
   "outputs": [],
   "source": [
    "# Calculating different metrics on test data\n",
    "final_model_test = model_performance_classification_sklearn(tuned_st,X_test_wv,y_test) # Final model's performance with the test data.\n",
    "print(\"Test performance for the final model:\\n\",final_model_test)"
   ]
  },
  {
   "cell_type": "markdown",
   "metadata": {
    "application/vnd.databricks.v1+cell": {
     "cellMetadata": {},
     "inputWidgets": {},
     "nuid": "9e8e77ee-4056-4b78-ab4b-e218dff7956b",
     "showTitle": false,
     "tableResultSettingsMap": {},
     "title": ""
    }
   },
   "source": [
    "- Best Model: Sentence Transformer"
   ]
  },
  {
   "cell_type": "markdown",
   "metadata": {
    "application/vnd.databricks.v1+cell": {
     "cellMetadata": {},
     "inputWidgets": {},
     "nuid": "a1e80ceb-31fb-4898-8bf8-dd02b1fcb966",
     "showTitle": false,
     "tableResultSettingsMap": {},
     "title": ""
    }
   },
   "source": [
    "## Weekly News Summarization"
   ]
  },
  {
   "cell_type": "markdown",
   "metadata": {
    "application/vnd.databricks.v1+cell": {
     "cellMetadata": {},
     "inputWidgets": {},
     "nuid": "dfedc721-1d9a-405f-881d-c6a886ad3493",
     "showTitle": false,
     "tableResultSettingsMap": {},
     "title": ""
    }
   },
   "source": [
    "#### Installing and Importing the necessary libraries"
   ]
  },
  {
   "cell_type": "code",
   "execution_count": 0,
   "metadata": {
    "application/vnd.databricks.v1+cell": {
     "cellMetadata": {},
     "inputWidgets": {},
     "nuid": "8b8d728c-217a-4240-aef2-2a6b1abe418d",
     "showTitle": false,
     "tableResultSettingsMap": {},
     "title": ""
    }
   },
   "outputs": [],
   "source": [
    "# It installs version 0.1.85 of the GPU llama-cpp-python library\n",
    "!CMAKE_ARGS=\"-DLLAMA_CUBLAS=on\" FORCE_CMAKE=1 pip install llama-cpp-python==0.1.85 --force-reinstall --no-cache-dir -q # Invoked as a shell command executed within Jupyter/Google Colab.\n",
    "\n",
    "# Installation for CPU llama-cpp-python\n",
    "# uncomment and run the following code in case GPU is not being used\n",
    "#!CMAKE_ARGS=\"-DLLAMA_CUBLAS=off\" FORCE_CMAKE=1 pip install llama-cpp-python==0.1.85 --force-reinstall --no-cache-dir -q"
   ]
  },
  {
   "cell_type": "code",
   "execution_count": 0,
   "metadata": {
    "application/vnd.databricks.v1+cell": {
     "cellMetadata": {},
     "inputWidgets": {},
     "nuid": "207677e5-830f-4aea-af2b-7872a333fcb0",
     "showTitle": false,
     "tableResultSettingsMap": {},
     "title": ""
    }
   },
   "outputs": [],
   "source": [
    "%%time\n",
    "from huggingface_hub import hf_hub_download          # Function to download the model from the Hugging Face model hub\n",
    "from llama_cpp import Llama                          # Importing the Llama class from the llama_cpp module\n",
    "import pandas as pd                                  # Importing the library for data manipulation\n",
    "from tqdm import tqdm                                # For progress bar related functionalities\n",
    "tqdm.pandas()"
   ]
  },
  {
   "cell_type": "markdown",
   "metadata": {
    "application/vnd.databricks.v1+cell": {
     "cellMetadata": {},
     "inputWidgets": {},
     "nuid": "95e1355c-9bf5-44eb-aa6c-033ccb144b92",
     "showTitle": false,
     "tableResultSettingsMap": {},
     "title": ""
    }
   },
   "source": [
    "## Loading the data"
   ]
  },
  {
   "cell_type": "code",
   "execution_count": 0,
   "metadata": {
    "application/vnd.databricks.v1+cell": {
     "cellMetadata": {},
     "inputWidgets": {},
     "nuid": "1e694097-e671-459c-acef-c6c996694bdc",
     "showTitle": false,
     "tableResultSettingsMap": {},
     "title": ""
    }
   },
   "outputs": [],
   "source": [
    "stock_data = pd.read_csv('https://raw.githubusercontent.com/ShauryaRawat10/Data-Science/main/Generative%20AI/Storage/stock_news.csv', engine='python')"
   ]
  },
  {
   "cell_type": "code",
   "execution_count": 0,
   "metadata": {
    "application/vnd.databricks.v1+cell": {
     "cellMetadata": {},
     "inputWidgets": {},
     "nuid": "5e43ab91-dbec-4d9f-8dc6-6026b0c676f3",
     "showTitle": false,
     "tableResultSettingsMap": {},
     "title": ""
    }
   },
   "outputs": [],
   "source": [
    "data = stock_news.copy()                            # Make a dtaframe copy for analysis"
   ]
  },
  {
   "cell_type": "markdown",
   "metadata": {
    "application/vnd.databricks.v1+cell": {
     "cellMetadata": {},
     "inputWidgets": {},
     "nuid": "2049a30d-c967-4e00-b196-132d3a773512",
     "showTitle": false,
     "tableResultSettingsMap": {},
     "title": ""
    }
   },
   "source": [
    "## Wordcount to check on tokens"
   ]
  },
  {
   "cell_type": "code",
   "execution_count": 0,
   "metadata": {
    "application/vnd.databricks.v1+cell": {
     "cellMetadata": {},
     "inputWidgets": {},
     "nuid": "70770998-3832-4592-8cbb-26f9415acb3b",
     "showTitle": false,
     "tableResultSettingsMap": {},
     "title": ""
    }
   },
   "outputs": [],
   "source": [
    "# Wordcount of a text in a file named stock_news\n",
    "import re \n",
    "\n",
    "words = re.findall(r'\\b\\w+\\b', \", \".join(data['News'].astype(str)).lower()) #Find all words, convert to lower case\n",
    "print(\"Total word count:\", len(words))"
   ]
  },
  {
   "cell_type": "code",
   "execution_count": 0,
   "metadata": {
    "application/vnd.databricks.v1+cell": {
     "cellMetadata": {},
     "inputWidgets": {},
     "nuid": "ccc22cb2-4206-4864-900d-bf01bfebf205",
     "showTitle": false,
     "tableResultSettingsMap": {},
     "title": ""
    }
   },
   "outputs": [],
   "source": [
    "model_name_or_path = \"TheBloke/Mistral-7B-Instruct-v0.2-GGUF\"  # Model path\n",
    "model_basename = \"mistral-7b-instruct-v0.2.Q6_K.gguf\"          # Model name\n",
    "\n",
    "model_path = hf_hub_download(                                  # Download the little model with 7.3 billion parameters\n",
    "    repo_id=\"TheBloke/Mistral-7B-Instruct-v0.2-GGUF\",          # Use the repo_id\n",
    "    filename=\"mistral-7b-instruct-v0.2.Q6_K.gguf\"              # Use this filename\n",
    ")                                                              # Examine progress (blue) until completion (green)\n"
   ]
  },
  {
   "cell_type": "code",
   "execution_count": 0,
   "metadata": {
    "application/vnd.databricks.v1+cell": {
     "cellMetadata": {},
     "inputWidgets": {},
     "nuid": "3337f6ca-d49c-43b1-b23a-366a4fd1c63c",
     "showTitle": false,
     "tableResultSettingsMap": {},
     "title": ""
    }
   },
   "outputs": [],
   "source": [
    "# Connect runtime to GPU, a number of layers will be offloaded to the GPU for computations.\n",
    "llm = Llama(                                                   # Variable that will hold the instance of the Llama model. Llama is the instantiated class of the llama-cpp-python lybrary.\n",
    "    model_path=model_path,                                     # Path to the model, previously defined. This is typically a .bin file that contains the trained weights of the model.\n",
    "    n_gpu_layers=100,                                          # Number of layers transferred to GPU. Which ones will be listed as an output.\n",
    "    n_ctx=4500,                                                # Context window. It determines how much text (in tokens) the model can process or “remember” in a single pass.\n",
    ")"
   ]
  },
  {
   "cell_type": "code",
   "execution_count": 0,
   "metadata": {
    "application/vnd.databricks.v1+cell": {
     "cellMetadata": {},
     "inputWidgets": {},
     "nuid": "14acf5df-da39-4c12-9044-3ae3d141d666",
     "showTitle": false,
     "tableResultSettingsMap": {},
     "title": ""
    }
   },
   "outputs": [],
   "source": [
    "# Aggregating data weekly\n",
    "data[\"Date\"] = pd.to_datetime(data['Date'])                                     # Convert the 'Date' column to datetime format."
   ]
  },
  {
   "cell_type": "code",
   "execution_count": 0,
   "metadata": {
    "application/vnd.databricks.v1+cell": {
     "cellMetadata": {},
     "inputWidgets": {},
     "nuid": "8dc57b58-44a9-4a29-b56a-a9aeab7d35f7",
     "showTitle": false,
     "tableResultSettingsMap": {},
     "title": ""
    }
   },
   "outputs": [],
   "source": [
    "weekly_grouped = data.groupby(pd.Grouper(key='Date', freq='W'))                 # Group the data by week using the 'Date' column."
   ]
  },
  {
   "cell_type": "code",
   "execution_count": 0,
   "metadata": {
    "application/vnd.databricks.v1+cell": {
     "cellMetadata": {},
     "inputWidgets": {},
     "nuid": "8f8d3c00-32b0-47ea-9d4e-449394058168",
     "showTitle": false,
     "tableResultSettingsMap": {},
     "title": ""
    }
   },
   "outputs": [],
   "source": [
    "weekly_grouped_full = weekly_grouped.apply(lambda x: x).reset_index(drop=True)  # Display all rows from the grouped Dataframe\n",
    "print(weekly_grouped_full)"
   ]
  },
  {
   "cell_type": "code",
   "execution_count": 0,
   "metadata": {
    "application/vnd.databricks.v1+cell": {
     "cellMetadata": {},
     "inputWidgets": {},
     "nuid": "c3073e64-6d5d-4b8d-8ff0-3db31ef141cc",
     "showTitle": false,
     "tableResultSettingsMap": {},
     "title": ""
    }
   },
   "outputs": [],
   "source": [
    "# Aggregate the \"News\" column with a '||' as a separator and their corresponding \"Volume\" and \"Label\" also separated by '||' and reset the index.\n",
    "# weekly_grouped = data.groupby(pd.Grouper(key='Date', freq='W')) # Group the data by week using the 'Date' column.\n",
    "weekly_aggregated = weekly_grouped.agg(\n",
    "    {\n",
    "        \"News\": lambda x: \" || \".join(x),\n",
    "        \"Volume\": lambda x: \" || \".join(map(str, x)),  # Assuming 'Value' needs string conversion\n",
    "        \"Label\": lambda x: \" || \".join(map(str, x)),  # Assuming 'Label' needs string conversion\n",
    "    }\n",
    ").reset_index()\n",
    "weekly_aggregated"
   ]
  },
  {
   "cell_type": "code",
   "execution_count": 0,
   "metadata": {
    "application/vnd.databricks.v1+cell": {
     "cellMetadata": {},
     "inputWidgets": {},
     "nuid": "03c344f3-a6bc-41ca-affe-f324f10f5a03",
     "showTitle": false,
     "tableResultSettingsMap": {},
     "title": ""
    }
   },
   "outputs": [],
   "source": [
    "# Compare processed files ...\n",
    "print(\"\\nCompare processed files ...\")\n",
    "print(\"\\nweekly_grouped_full: \",weekly_grouped_full.shape, \"with Columns: \", weekly_grouped_full.columns)\n",
    "print(\"weekly_aggregated:    \",weekly_aggregated.shape,\"with Columns: \", weekly_aggregated.columns)\n",
    "\n",
    "weekly_aggregated_copy = weekly_aggregated.copy()"
   ]
  },
  {
   "cell_type": "markdown",
   "metadata": {
    "application/vnd.databricks.v1+cell": {
     "cellMetadata": {},
     "inputWidgets": {},
     "nuid": "3befbdbf-341c-48da-8865-cad1f664a480",
     "showTitle": false,
     "tableResultSettingsMap": {},
     "title": ""
    }
   },
   "source": [
    "## Untilities"
   ]
  },
  {
   "cell_type": "code",
   "execution_count": 0,
   "metadata": {
    "application/vnd.databricks.v1+cell": {
     "cellMetadata": {},
     "inputWidgets": {},
     "nuid": "e37bf09b-d1a8-4d13-aa86-a3ac35be0ed4",
     "showTitle": false,
     "tableResultSettingsMap": {},
     "title": ""
    }
   },
   "outputs": [],
   "source": [
    "# defining a function to parse the JSON output from the model\n",
    "def extract_json_data(json_str):\n",
    "    import json\n",
    "    try:\n",
    "        # Find the indices of the opening and closing curly braces\n",
    "        json_start = json_str.find('{')\n",
    "        json_end = json_str.rfind('}')\n",
    "\n",
    "        if json_start != -1 and json_end != -1:\n",
    "            extracted_category = json_str[json_start:json_end + 1]  # Extract the JSON object\n",
    "            data_dict = json.loads(extracted_category)\n",
    "            return data_dict\n",
    "        else:\n",
    "            print(f\"Warning: JSON object not found in response: {json_str}\")\n",
    "            return {}\n",
    "    except json.JSONDecodeError as e:\n",
    "        print(f\"Error parsing JSON: {e}\")\n",
    "        return {}"
   ]
  },
  {
   "cell_type": "code",
   "execution_count": 0,
   "metadata": {
    "application/vnd.databricks.v1+cell": {
     "cellMetadata": {},
     "inputWidgets": {},
     "nuid": "2b76b948-b36b-4d05-bb31-3a51ac6ed429",
     "showTitle": false,
     "tableResultSettingsMap": {},
     "title": ""
    }
   },
   "outputs": [],
   "source": [
    "# Response function only creating Key Events\n",
    "def response_mistral_1(prompt, news):\n",
    "    model_output = llm(\n",
    "      f\"\"\"\n",
    "      [INST]\n",
    "      {prompt}\n",
    "      News Articles: {news}\n",
    "      [/INST]\n",
    "      \"\"\",\n",
    "      max_tokens=150,       # Set max tokens to limit response length. Limits the maximum number of tokens in the LLM's response to 150, controlling the length of the output.\n",
    "      temperature=0,        # Set temperature for minimum creativity. Sets the temperature to 0, results in more deterministic responses. Higher temperatures can lead to more diverse but imaginative outputs.\n",
    "      top_p=0.95,           # Set top_p for diversity. 0.95 means that the model will only select from the top 95% most probable tokens, leading to more focused and coherent responses.\n",
    "      top_k=50,             # Limit to top 50 tokens for better focus. Limits the number of considered tokens to the top 50 most probable ones, further refining the selection process.\n",
    "      stop=['INST'],        # Stop at the end of the instruction. Instructs the LLM to stop generating text when it encounters the [/INST] marker.\n",
    "      echo=False,\n",
    "    )\n",
    "\n",
    "    final_output = model_output[\"choices\"][0][\"text\"]\n",
    "\n",
    "    return final_output"
   ]
  },
  {
   "cell_type": "code",
   "execution_count": 0,
   "metadata": {
    "application/vnd.databricks.v1+cell": {
     "cellMetadata": {},
     "inputWidgets": {},
     "nuid": "4927f382-ce86-4508-abc2-6fca84aeb366",
     "showTitle": false,
     "tableResultSettingsMap": {},
     "title": ""
    }
   },
   "outputs": [],
   "source": [
    "# Response function with 'Label' data incorporated\n",
    "def response_mistral_2(prompt, news, labels):\n",
    "    # Combine 'news' and 'labels' into a format you want to pass to the model\n",
    "    formatted_news_and_labels = \"\\n\".join([f\"News: {n} | Label: {l}\" for n, l in zip(news, labels)])\n",
    "\n",
    "    # Construct the prompt with both the news and the labels\n",
    "    model_output = llm(\n",
    "      f\"\"\"\n",
    "      [INST]\n",
    "      {prompt}\n",
    "      News Articles and Labels:\n",
    "      {formatted_news_and_labels}\n",
    "      [/INST]\n",
    "      \"\"\",\n",
    "      max_tokens=150,   # Set max tokens to limit response length\n",
    "      temperature=0,    # Set temperature for a more predictable response\n",
    "      top_p=0.95,       # Set top_p for diversity\n",
    "      top_k=50,         # Limit to top 50 tokens for better focus\n",
    "      stop=['INST'],    # Stop at the end of the instruction\n",
    "      echo=False,\n",
    "    )\n",
    "\n",
    "    final_output = model_output[\"choices\"][0][\"text\"]\n",
    "    return final_output"
   ]
  },
  {
   "cell_type": "code",
   "execution_count": 0,
   "metadata": {
    "application/vnd.databricks.v1+cell": {
     "cellMetadata": {},
     "inputWidgets": {},
     "nuid": "68d89d02-b9ae-430d-8a8b-70b7c036b073",
     "showTitle": false,
     "tableResultSettingsMap": {},
     "title": ""
    }
   },
   "outputs": [],
   "source": [
    "news = weekly_aggregated_copy.loc[0, 'News'] # Using PROMPT 1 AND JSON"
   ]
  },
  {
   "cell_type": "code",
   "execution_count": 0,
   "metadata": {
    "application/vnd.databricks.v1+cell": {
     "cellMetadata": {},
     "inputWidgets": {},
     "nuid": "713b89a6-ef5a-44d8-a0d4-02ce7d6a2ca2",
     "showTitle": false,
     "tableResultSettingsMap": {},
     "title": ""
    }
   },
   "outputs": [],
   "source": [
    "print(len(news.split(' '))) # Using PROMPT 1 AND JSON\n",
    "news"
   ]
  },
  {
   "cell_type": "code",
   "execution_count": 0,
   "metadata": {
    "application/vnd.databricks.v1+cell": {
     "cellMetadata": {},
     "inputWidgets": {},
     "nuid": "abfd2690-f327-4eb4-92e9-3418b0e4f2bd",
     "showTitle": false,
     "tableResultSettingsMap": {},
     "title": ""
    }
   },
   "outputs": [],
   "source": [
    "# ------------------------------------------PROMPT 1 NOW WORKING ---\n",
    "prompt1 = \"\"\"\n",
    "You are an expert data analyst specializing in news analysis and sentiment analysis.\n",
    "\n",
    "Task: Analyze the provided news headlines and return the main topics within them.  Each event should be listed once, even if mentioned multiple times.\n",
    "\n",
    "Instructions:\n",
    "1. Read the news headline carefully to dentify the main subjects or entities mentioned in the news headline.\n",
    "3. Determine the key events or actions described in the headline.\n",
    "4. Extract relevant keywords that represent these same topics and summarize each.\n",
    "5. List these resulting summarized topics in a concise manner using an uniform numerical format like 1,2,3,4,5 always starting with numerical 1, per topic.\n",
    "6. Be sure to use uniform formatting for the output and always end each row with a period.\n",
    "\n",
    "Return the output results in JSON format with keys as the topic number and values as the actual topic\n",
    "\"\"\""
   ]
  },
  {
   "cell_type": "code",
   "execution_count": 0,
   "metadata": {
    "application/vnd.databricks.v1+cell": {
     "cellMetadata": {},
     "inputWidgets": {},
     "nuid": "337a7075-df7e-4958-be92-33b847ca7641",
     "showTitle": false,
     "tableResultSettingsMap": {},
     "title": ""
    }
   },
   "outputs": [],
   "source": [
    "%%time\n",
    "summary = response_mistral_1(prompt1, news) # Using JSON, Using Simple Promts, Topics nicely generated.\n",
    "print(summary)"
   ]
  },
  {
   "cell_type": "code",
   "execution_count": 0,
   "metadata": {
    "application/vnd.databricks.v1+cell": {
     "cellMetadata": {},
     "inputWidgets": {},
     "nuid": "68a92cd8-de4f-4f7b-8850-91d3295301e6",
     "showTitle": false,
     "tableResultSettingsMap": {},
     "title": ""
    }
   },
   "outputs": [],
   "source": [
    "# ---------------------------------------------PROMPT 2 -----\n",
    "prompt2 = \"\"\"\n",
    "You are an expert data analyst specializing in sentiment analysis.\n",
    "\n",
    "Task: Analyze the numbered Key Events and return corresponding Labels.\n",
    "\n",
    "Instructions:\n",
    "1. Read the numbered Key Events carefully.\n",
    "3. Determine the matching Labels key events and number them to match the Key Events.\n",
    "4. For each instance of a -1 create the text \"Negative News Event\" and for each instance of a 1 create the text \"Positive News Event\" matching each Key Events number.\n",
    "5. List these matching Labels now in text and make sure they still match the exact number of Key Events.\n",
    "6. Be sure to use uniform formatting for the output and always end each row with a period.\n",
    "\n",
    "\"\"\"\n",
    "# Return the output results in JSON format with keys as the topic number and values as the actual topic.\n",
    "# \"\"\""
   ]
  },
  {
   "cell_type": "code",
   "execution_count": 0,
   "metadata": {
    "application/vnd.databricks.v1+cell": {
     "cellMetadata": {},
     "inputWidgets": {},
     "nuid": "654bcc43-2f82-4012-b3b0-cdf8a586732a",
     "showTitle": false,
     "tableResultSettingsMap": {},
     "title": ""
    }
   },
   "outputs": [],
   "source": [
    "%%time\n",
    "summary = response_mistral_1(prompt2, data) # Using JSON, Using Simple Promts, Topics nicely generated.\n",
    "print(summary)"
   ]
  },
  {
   "cell_type": "code",
   "execution_count": 0,
   "metadata": {
    "application/vnd.databricks.v1+cell": {
     "cellMetadata": {},
     "inputWidgets": {},
     "nuid": "4f1fc112-2048-4a33-876d-d0e1d0211c4f",
     "showTitle": false,
     "tableResultSettingsMap": {},
     "title": ""
    }
   },
   "outputs": [],
   "source": [
    "# TEST \n",
    "prompt3 = \"\"\"\n",
    "You are an expert data analyst specializing in stock market news article analysis that affects the financial market.\n",
    "Task: Analyze the news headlines and determine which news articles are positive or negative in sentiment.\n",
    "Instructions:\n",
    "1. Read the individual news article that is separated by ' || '. \n",
    "2. Identify if the article contains positive or negative sentiment based on optimistic or pessimistic indicators. \n",
    "2. Extract each article and create a summary based on the sentiment (Positive or Negative).\n",
    "2. Summarize results by grouping by date into weeks, include the individual news articles and count the number of Positive (1) and Negative (-1) sentiments. \n",
    "Output the results in JSON format.\n",
    "\"\"\""
   ]
  },
  {
   "cell_type": "code",
   "execution_count": 0,
   "metadata": {
    "application/vnd.databricks.v1+cell": {
     "cellMetadata": {},
     "inputWidgets": {},
     "nuid": "83aa10be-4ab1-4e2f-8fec-6bd10fc0a683",
     "showTitle": false,
     "tableResultSettingsMap": {},
     "title": ""
    }
   },
   "outputs": [],
   "source": [
    "\n",
    "\n",
    "%%time\n",
    "summary = response_mistral_1(prompt, news)\n",
    "print(summary)\n",
    "\n",
    "# ------------------------------------------PROMPT 2.1 ----\n",
    "prompt = \"\"\"\n",
    "You are an expert data analyst specializing in news analysis and sentiment analysis.\n",
    "\n",
    "Task: Analyze the provided news headlines and return the main topics for each of them.  Each event should be listed once, even if mentioned multiple times.\n",
    "\n",
    "Instructions:\n",
    "1. Read the news headline carefully to dentify the main subjects or entities mentioned in the news headline.\n",
    "3. Determine the key events or actions described in the headline.\n",
    "4. Extract relevant keywords that represent these same topics and summarize each.\n",
    "5. List these resulting summarized topics in a concise manner.\n",
    "6. Be sure to use uniform formatting for the output.\n",
    "\n",
    "\"\"\"\n",
    "# Return the output results in JSON format with keys as the topic number and values as the actual topic.\n",
    "# \"\"\"\n",
    "\n",
    "summary_nonjson = response_mistral_1(prompt, weekly_aggregated_copy) # This is where the rubber meets the road. Using the prompt properly <==========================  PROMPT #2\n",
    "print(summary_nonjson)\n",
    "\n",
    "%%time\n",
    "data['Key Events'] = data['News'].progress_apply(lambda x: response_mistral_1(prompt,x))\n",
    "\n",
    "data_1.head()"
   ]
  }
 ],
 "metadata": {
  "application/vnd.databricks.v1+notebook": {
   "computePreferences": null,
   "dashboards": [],
   "environmentMetadata": {
    "base_environment": "",
    "environment_version": "4"
   },
   "inputWidgetPreferences": null,
   "language": "python",
   "notebookMetadata": {
    "pythonIndentUnit": 4
   },
   "notebookName": "Untitled Notebook 2025-10-26 20:17:47",
   "widgets": {}
  },
  "language_info": {
   "name": "python"
  }
 },
 "nbformat": 4,
 "nbformat_minor": 0
}